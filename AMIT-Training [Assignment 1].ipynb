{
 "cells": [
  {
   "cell_type": "markdown",
   "id": "556881a1",
   "metadata": {},
   "source": [
    "# A program for splitting multiple user inputs"
   ]
  },
  {
   "cell_type": "code",
   "execution_count": 1,
   "id": "71cd6811",
   "metadata": {},
   "outputs": [
    {
     "name": "stdout",
     "output_type": "stream",
     "text": [
      "Enter Two Numbers Separated By A Comma: 7, 3\n"
     ]
    }
   ],
   "source": [
    "# splitting multiple user inputs using list comprehension\n",
    "\n",
    "# and assigning each value to its respective variable\n",
    "\n",
    "x, y = [int(n) for n in input(\"Enter Two Numbers Separated By A Comma: \").split(\",\")]"
   ]
  },
  {
   "cell_type": "code",
   "execution_count": 2,
   "id": "fce33c17",
   "metadata": {},
   "outputs": [
    {
     "data": {
      "text/plain": [
       "7"
      ]
     },
     "execution_count": 2,
     "metadata": {},
     "output_type": "execute_result"
    }
   ],
   "source": [
    "x"
   ]
  },
  {
   "cell_type": "code",
   "execution_count": 3,
   "id": "bdcca00e",
   "metadata": {},
   "outputs": [
    {
     "data": {
      "text/plain": [
       "3"
      ]
     },
     "execution_count": 3,
     "metadata": {},
     "output_type": "execute_result"
    }
   ],
   "source": [
    "y"
   ]
  },
  {
   "cell_type": "code",
   "execution_count": null,
   "id": "383ac5e2",
   "metadata": {},
   "outputs": [],
   "source": []
  }
 ],
 "metadata": {
  "kernelspec": {
   "display_name": "Python 3 (ipykernel)",
   "language": "python",
   "name": "python3"
  },
  "language_info": {
   "codemirror_mode": {
    "name": "ipython",
    "version": 3
   },
   "file_extension": ".py",
   "mimetype": "text/x-python",
   "name": "python",
   "nbconvert_exporter": "python",
   "pygments_lexer": "ipython3",
   "version": "3.9.12"
  }
 },
 "nbformat": 4,
 "nbformat_minor": 5
}
