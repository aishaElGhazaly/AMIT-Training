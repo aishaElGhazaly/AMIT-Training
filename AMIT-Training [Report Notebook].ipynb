{
 "cells": [
  {
   "cell_type": "markdown",
   "id": "37902950",
   "metadata": {},
   "source": [
    "# Dunder Methods"
   ]
  },
  {
   "cell_type": "code",
   "execution_count": 1,
   "id": "634f08a1",
   "metadata": {},
   "outputs": [
    {
     "data": {
      "text/plain": [
       "['__abs__',\n",
       " '__add__',\n",
       " '__and__',\n",
       " '__bool__',\n",
       " '__ceil__',\n",
       " '__class__',\n",
       " '__delattr__',\n",
       " '__dir__',\n",
       " '__divmod__',\n",
       " '__doc__',\n",
       " '__eq__',\n",
       " '__float__',\n",
       " '__floor__',\n",
       " '__floordiv__',\n",
       " '__format__',\n",
       " '__ge__',\n",
       " '__getattribute__',\n",
       " '__getnewargs__',\n",
       " '__gt__',\n",
       " '__hash__',\n",
       " '__index__',\n",
       " '__init__',\n",
       " '__init_subclass__',\n",
       " '__int__',\n",
       " '__invert__',\n",
       " '__le__',\n",
       " '__lshift__',\n",
       " '__lt__',\n",
       " '__mod__',\n",
       " '__mul__',\n",
       " '__ne__',\n",
       " '__neg__',\n",
       " '__new__',\n",
       " '__or__',\n",
       " '__pos__',\n",
       " '__pow__',\n",
       " '__radd__',\n",
       " '__rand__',\n",
       " '__rdivmod__',\n",
       " '__reduce__',\n",
       " '__reduce_ex__',\n",
       " '__repr__',\n",
       " '__rfloordiv__',\n",
       " '__rlshift__',\n",
       " '__rmod__',\n",
       " '__rmul__',\n",
       " '__ror__',\n",
       " '__round__',\n",
       " '__rpow__',\n",
       " '__rrshift__',\n",
       " '__rshift__',\n",
       " '__rsub__',\n",
       " '__rtruediv__',\n",
       " '__rxor__',\n",
       " '__setattr__',\n",
       " '__sizeof__',\n",
       " '__str__',\n",
       " '__sub__',\n",
       " '__subclasshook__',\n",
       " '__truediv__',\n",
       " '__trunc__',\n",
       " '__xor__',\n",
       " 'as_integer_ratio',\n",
       " 'bit_length',\n",
       " 'conjugate',\n",
       " 'denominator',\n",
       " 'from_bytes',\n",
       " 'imag',\n",
       " 'numerator',\n",
       " 'real',\n",
       " 'to_bytes']"
      ]
     },
     "execution_count": 1,
     "metadata": {},
     "output_type": "execute_result"
    }
   ],
   "source": [
    "# return the list of dunder methods in int class\n",
    "\n",
    "dir(int)"
   ]
  },
  {
   "cell_type": "code",
   "execution_count": 2,
   "id": "692085f1",
   "metadata": {},
   "outputs": [
    {
     "data": {
      "text/plain": [
       "['__add__',\n",
       " '__class__',\n",
       " '__contains__',\n",
       " '__delattr__',\n",
       " '__dir__',\n",
       " '__doc__',\n",
       " '__eq__',\n",
       " '__format__',\n",
       " '__ge__',\n",
       " '__getattribute__',\n",
       " '__getitem__',\n",
       " '__getnewargs__',\n",
       " '__gt__',\n",
       " '__hash__',\n",
       " '__init__',\n",
       " '__init_subclass__',\n",
       " '__iter__',\n",
       " '__le__',\n",
       " '__len__',\n",
       " '__lt__',\n",
       " '__mod__',\n",
       " '__mul__',\n",
       " '__ne__',\n",
       " '__new__',\n",
       " '__reduce__',\n",
       " '__reduce_ex__',\n",
       " '__repr__',\n",
       " '__rmod__',\n",
       " '__rmul__',\n",
       " '__setattr__',\n",
       " '__sizeof__',\n",
       " '__str__',\n",
       " '__subclasshook__',\n",
       " 'capitalize',\n",
       " 'casefold',\n",
       " 'center',\n",
       " 'count',\n",
       " 'encode',\n",
       " 'endswith',\n",
       " 'expandtabs',\n",
       " 'find',\n",
       " 'format',\n",
       " 'format_map',\n",
       " 'index',\n",
       " 'isalnum',\n",
       " 'isalpha',\n",
       " 'isascii',\n",
       " 'isdecimal',\n",
       " 'isdigit',\n",
       " 'isidentifier',\n",
       " 'islower',\n",
       " 'isnumeric',\n",
       " 'isprintable',\n",
       " 'isspace',\n",
       " 'istitle',\n",
       " 'isupper',\n",
       " 'join',\n",
       " 'ljust',\n",
       " 'lower',\n",
       " 'lstrip',\n",
       " 'maketrans',\n",
       " 'partition',\n",
       " 'removeprefix',\n",
       " 'removesuffix',\n",
       " 'replace',\n",
       " 'rfind',\n",
       " 'rindex',\n",
       " 'rjust',\n",
       " 'rpartition',\n",
       " 'rsplit',\n",
       " 'rstrip',\n",
       " 'split',\n",
       " 'splitlines',\n",
       " 'startswith',\n",
       " 'strip',\n",
       " 'swapcase',\n",
       " 'title',\n",
       " 'translate',\n",
       " 'upper',\n",
       " 'zfill']"
      ]
     },
     "execution_count": 2,
     "metadata": {},
     "output_type": "execute_result"
    }
   ],
   "source": [
    "# return the list of dunder methods in str class\n",
    "\n",
    "dir(str)"
   ]
  },
  {
   "cell_type": "markdown",
   "id": "22ec90bd",
   "metadata": {},
   "source": [
    "### Demonstrate overloaded behavior of operator"
   ]
  },
  {
   "cell_type": "code",
   "execution_count": 3,
   "id": "a2109fae",
   "metadata": {},
   "outputs": [],
   "source": [
    "num = 10"
   ]
  },
  {
   "cell_type": "code",
   "execution_count": 4,
   "id": "0debcce7",
   "metadata": {},
   "outputs": [
    {
     "data": {
      "text/plain": [
       "15"
      ]
     },
     "execution_count": 4,
     "metadata": {},
     "output_type": "execute_result"
    }
   ],
   "source": [
    "# add 5 using + operator\n",
    "x = num + 5\n",
    "\n",
    "x"
   ]
  },
  {
   "cell_type": "code",
   "execution_count": 5,
   "id": "12a43e0a",
   "metadata": {},
   "outputs": [
    {
     "data": {
      "text/plain": [
       "15"
      ]
     },
     "execution_count": 5,
     "metadata": {},
     "output_type": "execute_result"
    }
   ],
   "source": [
    "# add 5 using __add__() dunder method\n",
    "y = num.__add__(5)\n",
    "\n",
    "y"
   ]
  },
  {
   "cell_type": "code",
   "execution_count": 6,
   "id": "de7a8a0f",
   "metadata": {},
   "outputs": [],
   "source": [
    "x = \"This is\"\n",
    "y = \" a String\""
   ]
  },
  {
   "cell_type": "code",
   "execution_count": 7,
   "id": "83f8b4e1",
   "metadata": {},
   "outputs": [
    {
     "data": {
      "text/plain": [
       "'This is a String'"
      ]
     },
     "execution_count": 7,
     "metadata": {},
     "output_type": "execute_result"
    }
   ],
   "source": [
    "k = x + y\n",
    "\n",
    "k"
   ]
  },
  {
   "cell_type": "code",
   "execution_count": 8,
   "id": "d705c0c4",
   "metadata": {},
   "outputs": [
    {
     "data": {
      "text/plain": [
       "'This is a String'"
      ]
     },
     "execution_count": 8,
     "metadata": {},
     "output_type": "execute_result"
    }
   ],
   "source": [
    "l = x.__add__(y)\n",
    "\n",
    "l"
   ]
  },
  {
   "cell_type": "markdown",
   "id": "7bcf1d74",
   "metadata": {},
   "source": [
    "# *args & **kwargs"
   ]
  },
  {
   "cell_type": "markdown",
   "id": "cdb8e65b",
   "metadata": {},
   "source": [
    "### *args"
   ]
  },
  {
   "cell_type": "code",
   "execution_count": 9,
   "id": "83c051dc",
   "metadata": {},
   "outputs": [],
   "source": [
    "# function to test using *args\n",
    "\n",
    "def test(*args):\n",
    "    \n",
    "    for arg in args:\n",
    "        \n",
    "        print(arg)"
   ]
  },
  {
   "cell_type": "code",
   "execution_count": 10,
   "id": "a35bfb3c",
   "metadata": {},
   "outputs": [
    {
     "name": "stdout",
     "output_type": "stream",
     "text": [
      "Word\n",
      "486\n",
      "True\n",
      "10\n"
     ]
    }
   ],
   "source": [
    "test(\"Word\", 486, True, 10)"
   ]
  },
  {
   "cell_type": "code",
   "execution_count": 11,
   "id": "8829bdab",
   "metadata": {},
   "outputs": [],
   "source": [
    "# function to test using *args along with a defined argument\n",
    "\n",
    "def test2(name, *args):\n",
    "    print(\"My name is \" + name)\n",
    "    \n",
    "    for arg in args:\n",
    "        \n",
    "        print(arg)"
   ]
  },
  {
   "cell_type": "code",
   "execution_count": 12,
   "id": "41078638",
   "metadata": {},
   "outputs": [
    {
     "name": "stdout",
     "output_type": "stream",
     "text": [
      "My name is Ash\n",
      "Nemo\n",
      "BMW\n",
      "Red\n"
     ]
    }
   ],
   "source": [
    "test2(\"Ash\", \"Nemo\", \"BMW\", \"Red\")"
   ]
  },
  {
   "cell_type": "markdown",
   "id": "27e66371",
   "metadata": {},
   "source": [
    "### **kwargs"
   ]
  },
  {
   "cell_type": "code",
   "execution_count": 13,
   "id": "0d155efe",
   "metadata": {},
   "outputs": [],
   "source": [
    "# function to test using **kwargs\n",
    "def test(**kwargs):\n",
    "    \n",
    "    for key, value in kwargs.items():\n",
    "        \n",
    "        print(\"{}: {}\".format(key, value))"
   ]
  },
  {
   "cell_type": "code",
   "execution_count": 14,
   "id": "29a06699",
   "metadata": {},
   "outputs": [
    {
     "name": "stdout",
     "output_type": "stream",
     "text": [
      "AAPL: 138\n",
      "TSLA: 677\n",
      "DIS: 96\n"
     ]
    }
   ],
   "source": [
    "test(AAPL = 138, TSLA = 677, DIS = 96)"
   ]
  }
 ],
 "metadata": {
  "kernelspec": {
   "display_name": "Python 3 (ipykernel)",
   "language": "python",
   "name": "python3"
  },
  "language_info": {
   "codemirror_mode": {
    "name": "ipython",
    "version": 3
   },
   "file_extension": ".py",
   "mimetype": "text/x-python",
   "name": "python",
   "nbconvert_exporter": "python",
   "pygments_lexer": "ipython3",
   "version": "3.9.12"
  }
 },
 "nbformat": 4,
 "nbformat_minor": 5
}
