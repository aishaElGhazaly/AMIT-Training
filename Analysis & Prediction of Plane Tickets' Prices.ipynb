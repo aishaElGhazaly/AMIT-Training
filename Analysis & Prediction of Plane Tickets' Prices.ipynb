{
 "cells": [
  {
   "cell_type": "markdown",
   "id": "f59af5e6",
   "metadata": {},
   "source": [
    "# 1- Import Libraries & Explore Data"
   ]
  },
  {
   "cell_type": "code",
   "execution_count": 1,
   "id": "1a091ceb",
   "metadata": {},
   "outputs": [],
   "source": [
    "# Import Libraries for Data Analysis \n",
    "\n",
    "import numpy as np\n",
    "import pandas as pd\n",
    "import seaborn as sns\n",
    "import matplotlib.pyplot as plt\n",
    "import datetime as dt\n",
    "import copy\n",
    "import scipy.stats as stats\n",
    "from sklearn.preprocessing import LabelEncoder\n",
    "        \n",
    "# Machine Learning Libraries for training and testing\n",
    "from sklearn.model_selection import train_test_split\n",
    "from sklearn import metrics\n",
    "from sklearn.linear_model import LinearRegression"
   ]
  },
  {
   "cell_type": "code",
   "execution_count": 2,
   "id": "bba652a4",
   "metadata": {},
   "outputs": [],
   "source": [
    "# read data\n",
    "data = pd.read_csv('Predict Price of Airline Tickets.csv')"
   ]
  },
  {
   "cell_type": "code",
   "execution_count": 3,
   "id": "ce6edbb2",
   "metadata": {},
   "outputs": [
    {
     "data": {
      "text/html": [
       "<div>\n",
       "<style scoped>\n",
       "    .dataframe tbody tr th:only-of-type {\n",
       "        vertical-align: middle;\n",
       "    }\n",
       "\n",
       "    .dataframe tbody tr th {\n",
       "        vertical-align: top;\n",
       "    }\n",
       "\n",
       "    .dataframe thead th {\n",
       "        text-align: right;\n",
       "    }\n",
       "</style>\n",
       "<table border=\"1\" class=\"dataframe\">\n",
       "  <thead>\n",
       "    <tr style=\"text-align: right;\">\n",
       "      <th></th>\n",
       "      <th>Airline</th>\n",
       "      <th>Date_of_Journey</th>\n",
       "      <th>Source</th>\n",
       "      <th>Destination</th>\n",
       "      <th>Route</th>\n",
       "      <th>Dep_Time</th>\n",
       "      <th>Arrival_Time</th>\n",
       "      <th>Duration</th>\n",
       "      <th>Total_Stops</th>\n",
       "      <th>Additional_Info</th>\n",
       "      <th>Price</th>\n",
       "    </tr>\n",
       "  </thead>\n",
       "  <tbody>\n",
       "    <tr>\n",
       "      <th>0</th>\n",
       "      <td>IndiGo</td>\n",
       "      <td>24/03/2019</td>\n",
       "      <td>Banglore</td>\n",
       "      <td>New Delhi</td>\n",
       "      <td>BLR ? DEL</td>\n",
       "      <td>22:20</td>\n",
       "      <td>01:10 22 Mar</td>\n",
       "      <td>2h 50m</td>\n",
       "      <td>non-stop</td>\n",
       "      <td>No info</td>\n",
       "      <td>3897</td>\n",
       "    </tr>\n",
       "    <tr>\n",
       "      <th>1</th>\n",
       "      <td>Air India</td>\n",
       "      <td>1/05/2019</td>\n",
       "      <td>Kolkata</td>\n",
       "      <td>Banglore</td>\n",
       "      <td>CCU ? IXR ? BBI ? BLR</td>\n",
       "      <td>05:50</td>\n",
       "      <td>13:15</td>\n",
       "      <td>7h 25m</td>\n",
       "      <td>2 stops</td>\n",
       "      <td>No info</td>\n",
       "      <td>7662</td>\n",
       "    </tr>\n",
       "    <tr>\n",
       "      <th>2</th>\n",
       "      <td>Jet Airways</td>\n",
       "      <td>9/06/2019</td>\n",
       "      <td>Delhi</td>\n",
       "      <td>Cochin</td>\n",
       "      <td>DEL ? LKO ? BOM ? COK</td>\n",
       "      <td>09:25</td>\n",
       "      <td>04:25 10 Jun</td>\n",
       "      <td>19h</td>\n",
       "      <td>2 stops</td>\n",
       "      <td>No info</td>\n",
       "      <td>13882</td>\n",
       "    </tr>\n",
       "    <tr>\n",
       "      <th>3</th>\n",
       "      <td>IndiGo</td>\n",
       "      <td>12/05/2019</td>\n",
       "      <td>Kolkata</td>\n",
       "      <td>Banglore</td>\n",
       "      <td>CCU ? NAG ? BLR</td>\n",
       "      <td>18:05</td>\n",
       "      <td>23:30</td>\n",
       "      <td>5h 25m</td>\n",
       "      <td>1 stop</td>\n",
       "      <td>No info</td>\n",
       "      <td>6218</td>\n",
       "    </tr>\n",
       "    <tr>\n",
       "      <th>4</th>\n",
       "      <td>IndiGo</td>\n",
       "      <td>01/03/2019</td>\n",
       "      <td>Banglore</td>\n",
       "      <td>New Delhi</td>\n",
       "      <td>BLR ? NAG ? DEL</td>\n",
       "      <td>16:50</td>\n",
       "      <td>21:35</td>\n",
       "      <td>4h 45m</td>\n",
       "      <td>1 stop</td>\n",
       "      <td>No info</td>\n",
       "      <td>13302</td>\n",
       "    </tr>\n",
       "    <tr>\n",
       "      <th>...</th>\n",
       "      <td>...</td>\n",
       "      <td>...</td>\n",
       "      <td>...</td>\n",
       "      <td>...</td>\n",
       "      <td>...</td>\n",
       "      <td>...</td>\n",
       "      <td>...</td>\n",
       "      <td>...</td>\n",
       "      <td>...</td>\n",
       "      <td>...</td>\n",
       "      <td>...</td>\n",
       "    </tr>\n",
       "    <tr>\n",
       "      <th>10678</th>\n",
       "      <td>Air Asia</td>\n",
       "      <td>9/04/2019</td>\n",
       "      <td>Kolkata</td>\n",
       "      <td>Banglore</td>\n",
       "      <td>CCU ? BLR</td>\n",
       "      <td>19:55</td>\n",
       "      <td>22:25</td>\n",
       "      <td>2h 30m</td>\n",
       "      <td>non-stop</td>\n",
       "      <td>No info</td>\n",
       "      <td>4107</td>\n",
       "    </tr>\n",
       "    <tr>\n",
       "      <th>10679</th>\n",
       "      <td>Air India</td>\n",
       "      <td>27/04/2019</td>\n",
       "      <td>Kolkata</td>\n",
       "      <td>Banglore</td>\n",
       "      <td>CCU ? BLR</td>\n",
       "      <td>20:45</td>\n",
       "      <td>23:20</td>\n",
       "      <td>2h 35m</td>\n",
       "      <td>non-stop</td>\n",
       "      <td>No info</td>\n",
       "      <td>4145</td>\n",
       "    </tr>\n",
       "    <tr>\n",
       "      <th>10680</th>\n",
       "      <td>Jet Airways</td>\n",
       "      <td>27/04/2019</td>\n",
       "      <td>Banglore</td>\n",
       "      <td>Delhi</td>\n",
       "      <td>BLR ? DEL</td>\n",
       "      <td>08:20</td>\n",
       "      <td>11:20</td>\n",
       "      <td>3h</td>\n",
       "      <td>non-stop</td>\n",
       "      <td>No info</td>\n",
       "      <td>7229</td>\n",
       "    </tr>\n",
       "    <tr>\n",
       "      <th>10681</th>\n",
       "      <td>Vistara</td>\n",
       "      <td>01/03/2019</td>\n",
       "      <td>Banglore</td>\n",
       "      <td>New Delhi</td>\n",
       "      <td>BLR ? DEL</td>\n",
       "      <td>11:30</td>\n",
       "      <td>14:10</td>\n",
       "      <td>2h 40m</td>\n",
       "      <td>non-stop</td>\n",
       "      <td>No info</td>\n",
       "      <td>12648</td>\n",
       "    </tr>\n",
       "    <tr>\n",
       "      <th>10682</th>\n",
       "      <td>Air India</td>\n",
       "      <td>9/05/2019</td>\n",
       "      <td>Delhi</td>\n",
       "      <td>Cochin</td>\n",
       "      <td>DEL ? GOI ? BOM ? COK</td>\n",
       "      <td>10:55</td>\n",
       "      <td>19:15</td>\n",
       "      <td>8h 20m</td>\n",
       "      <td>2 stops</td>\n",
       "      <td>No info</td>\n",
       "      <td>11753</td>\n",
       "    </tr>\n",
       "  </tbody>\n",
       "</table>\n",
       "<p>10683 rows × 11 columns</p>\n",
       "</div>"
      ],
      "text/plain": [
       "           Airline Date_of_Journey    Source Destination  \\\n",
       "0           IndiGo      24/03/2019  Banglore   New Delhi   \n",
       "1        Air India       1/05/2019   Kolkata    Banglore   \n",
       "2      Jet Airways       9/06/2019     Delhi      Cochin   \n",
       "3           IndiGo      12/05/2019   Kolkata    Banglore   \n",
       "4           IndiGo      01/03/2019  Banglore   New Delhi   \n",
       "...            ...             ...       ...         ...   \n",
       "10678     Air Asia       9/04/2019   Kolkata    Banglore   \n",
       "10679    Air India      27/04/2019   Kolkata    Banglore   \n",
       "10680  Jet Airways      27/04/2019  Banglore       Delhi   \n",
       "10681      Vistara      01/03/2019  Banglore   New Delhi   \n",
       "10682    Air India       9/05/2019     Delhi      Cochin   \n",
       "\n",
       "                       Route Dep_Time  Arrival_Time Duration Total_Stops  \\\n",
       "0                  BLR ? DEL    22:20  01:10 22 Mar   2h 50m    non-stop   \n",
       "1      CCU ? IXR ? BBI ? BLR    05:50         13:15   7h 25m     2 stops   \n",
       "2      DEL ? LKO ? BOM ? COK    09:25  04:25 10 Jun      19h     2 stops   \n",
       "3            CCU ? NAG ? BLR    18:05         23:30   5h 25m      1 stop   \n",
       "4            BLR ? NAG ? DEL    16:50         21:35   4h 45m      1 stop   \n",
       "...                      ...      ...           ...      ...         ...   \n",
       "10678              CCU ? BLR    19:55         22:25   2h 30m    non-stop   \n",
       "10679              CCU ? BLR    20:45         23:20   2h 35m    non-stop   \n",
       "10680              BLR ? DEL    08:20         11:20       3h    non-stop   \n",
       "10681              BLR ? DEL    11:30         14:10   2h 40m    non-stop   \n",
       "10682  DEL ? GOI ? BOM ? COK    10:55         19:15   8h 20m     2 stops   \n",
       "\n",
       "      Additional_Info  Price  \n",
       "0             No info   3897  \n",
       "1             No info   7662  \n",
       "2             No info  13882  \n",
       "3             No info   6218  \n",
       "4             No info  13302  \n",
       "...               ...    ...  \n",
       "10678         No info   4107  \n",
       "10679         No info   4145  \n",
       "10680         No info   7229  \n",
       "10681         No info  12648  \n",
       "10682         No info  11753  \n",
       "\n",
       "[10683 rows x 11 columns]"
      ]
     },
     "execution_count": 3,
     "metadata": {},
     "output_type": "execute_result"
    }
   ],
   "source": [
    "# display data\n",
    "data"
   ]
  },
  {
   "cell_type": "code",
   "execution_count": 4,
   "id": "68d5929d",
   "metadata": {},
   "outputs": [
    {
     "name": "stdout",
     "output_type": "stream",
     "text": [
      "<class 'pandas.core.frame.DataFrame'>\n",
      "RangeIndex: 10683 entries, 0 to 10682\n",
      "Data columns (total 11 columns):\n",
      " #   Column           Non-Null Count  Dtype \n",
      "---  ------           --------------  ----- \n",
      " 0   Airline          10683 non-null  object\n",
      " 1   Date_of_Journey  10683 non-null  object\n",
      " 2   Source           10683 non-null  object\n",
      " 3   Destination      10683 non-null  object\n",
      " 4   Route            10682 non-null  object\n",
      " 5   Dep_Time         10683 non-null  object\n",
      " 6   Arrival_Time     10683 non-null  object\n",
      " 7   Duration         10683 non-null  object\n",
      " 8   Total_Stops      10682 non-null  object\n",
      " 9   Additional_Info  10683 non-null  object\n",
      " 10  Price            10683 non-null  int64 \n",
      "dtypes: int64(1), object(10)\n",
      "memory usage: 918.2+ KB\n"
     ]
    }
   ],
   "source": [
    "# display basic information about data\n",
    "data.info()"
   ]
  },
  {
   "cell_type": "code",
   "execution_count": 5,
   "id": "0f55a238",
   "metadata": {},
   "outputs": [
    {
     "data": {
      "text/html": [
       "<div>\n",
       "<style scoped>\n",
       "    .dataframe tbody tr th:only-of-type {\n",
       "        vertical-align: middle;\n",
       "    }\n",
       "\n",
       "    .dataframe tbody tr th {\n",
       "        vertical-align: top;\n",
       "    }\n",
       "\n",
       "    .dataframe thead th {\n",
       "        text-align: right;\n",
       "    }\n",
       "</style>\n",
       "<table border=\"1\" class=\"dataframe\">\n",
       "  <thead>\n",
       "    <tr style=\"text-align: right;\">\n",
       "      <th></th>\n",
       "      <th>Price</th>\n",
       "    </tr>\n",
       "  </thead>\n",
       "  <tbody>\n",
       "    <tr>\n",
       "      <th>count</th>\n",
       "      <td>10683.000000</td>\n",
       "    </tr>\n",
       "    <tr>\n",
       "      <th>mean</th>\n",
       "      <td>9087.064121</td>\n",
       "    </tr>\n",
       "    <tr>\n",
       "      <th>std</th>\n",
       "      <td>4611.359167</td>\n",
       "    </tr>\n",
       "    <tr>\n",
       "      <th>min</th>\n",
       "      <td>1759.000000</td>\n",
       "    </tr>\n",
       "    <tr>\n",
       "      <th>25%</th>\n",
       "      <td>5277.000000</td>\n",
       "    </tr>\n",
       "    <tr>\n",
       "      <th>50%</th>\n",
       "      <td>8372.000000</td>\n",
       "    </tr>\n",
       "    <tr>\n",
       "      <th>75%</th>\n",
       "      <td>12373.000000</td>\n",
       "    </tr>\n",
       "    <tr>\n",
       "      <th>max</th>\n",
       "      <td>79512.000000</td>\n",
       "    </tr>\n",
       "  </tbody>\n",
       "</table>\n",
       "</div>"
      ],
      "text/plain": [
       "              Price\n",
       "count  10683.000000\n",
       "mean    9087.064121\n",
       "std     4611.359167\n",
       "min     1759.000000\n",
       "25%     5277.000000\n",
       "50%     8372.000000\n",
       "75%    12373.000000\n",
       "max    79512.000000"
      ]
     },
     "execution_count": 5,
     "metadata": {},
     "output_type": "execute_result"
    }
   ],
   "source": [
    "# display description of (numerical) data\n",
    "data.describe()"
   ]
  },
  {
   "cell_type": "markdown",
   "id": "f8a1867f",
   "metadata": {},
   "source": [
    "# 2-  Data Preprocessing I"
   ]
  },
  {
   "cell_type": "code",
   "execution_count": 6,
   "id": "badb21cb",
   "metadata": {},
   "outputs": [],
   "source": [
    "# a function that returns the season of a given data\n",
    "\n",
    "def season(travelDate):\n",
    "    \n",
    "    # extract the date\n",
    "    tDate = dt.datetime.strptime(travelDate, '%d/%m/%Y').date()\n",
    "    \n",
    "    # extract the year of the date\n",
    "    year = tDate.year\n",
    "    \n",
    "    # return the appropriate season depending on the date\n",
    "    if tDate >= dt.date(year, 3, 21) and tDate < dt.date(year, 6, 21):\n",
    "        return 'Spring'\n",
    "    elif tDate >= dt.date(year, 6, 21) and tDate < dt.date(year, 9, 23):\n",
    "        return 'Summer'\n",
    "    elif tDate >= dt.date(year, 9, 23) and tDate < dt.date(year, 12, 21):\n",
    "        return 'Fall'\n",
    "    else:\n",
    "        return 'Winter'\n"
   ]
  },
  {
   "cell_type": "code",
   "execution_count": 7,
   "id": "0ea9d6bc",
   "metadata": {},
   "outputs": [],
   "source": [
    "# create a new column 'Season' where the function 'season' is applied to the date of journey\n",
    "data['Season'] = data['Date_of_Journey'].apply(season)"
   ]
  },
  {
   "cell_type": "code",
   "execution_count": 8,
   "id": "77d603ad",
   "metadata": {},
   "outputs": [],
   "source": [
    "# a function that returns the length of the flight depending on its duration\n",
    "\n",
    "def flightLength(duration):\n",
    "    \n",
    "    # initalize hour variable\n",
    "    hour = 0\n",
    "    \n",
    "    # if there is an 'h' in the duration (meaning it's at least an hour long)\n",
    "    if 'h' in duration:\n",
    "        \n",
    "        # get the number of hours\n",
    "        hour = int(duration.partition('h')[0])\n",
    "    \n",
    "    # return appropriate length depending on duration\n",
    "    if hour < 3:\n",
    "        return 'Short'\n",
    "    elif hour >= 3 and hour < 6:\n",
    "        return 'Mid'\n",
    "    else:\n",
    "        return 'Long'"
   ]
  },
  {
   "cell_type": "code",
   "execution_count": 9,
   "id": "341c84af",
   "metadata": {},
   "outputs": [],
   "source": [
    "# create a new column 'Flight_Length' where the function 'flightlength' is applied to the duration\n",
    "data['Flight_Length'] = data['Duration'].apply(flightLength)"
   ]
  },
  {
   "cell_type": "code",
   "execution_count": 10,
   "id": "d2f45dc1",
   "metadata": {},
   "outputs": [],
   "source": [
    "# a function that returns a bool on whether the flight departed at peak hours\n",
    "def peakHrs(depTime):\n",
    "    \n",
    "    # get hour of departure\n",
    "    hour = depTime.partition(':')[0]\n",
    "    \n",
    "    # if it's before 9 AM or after 8 PM return False\n",
    "    if int(hour) < 9 or int(hour) >= 20:\n",
    "        return False\n",
    "    else:\n",
    "        return True"
   ]
  },
  {
   "cell_type": "code",
   "execution_count": 11,
   "id": "5b158af5",
   "metadata": {},
   "outputs": [],
   "source": [
    "# create a new column 'Peak_Hours' where the function 'peakHrs' is applied to the departure time\n",
    "data['Peak_Hours'] = data['Dep_Time'].apply(peakHrs)"
   ]
  },
  {
   "cell_type": "code",
   "execution_count": 12,
   "id": "04dab4e1",
   "metadata": {},
   "outputs": [],
   "source": [
    "\n",
    "# rearange column order\n",
    "data = data[['Airline', 'Date_of_Journey', 'Season', 'Source', 'Destination', 'Route', 'Dep_Time', 'Arrival_Time', 'Duration', 'Flight_Length', 'Peak_Hours', 'Total_Stops', 'Price', 'Additional_Info']]\n",
    "\n"
   ]
  },
  {
   "cell_type": "code",
   "execution_count": 13,
   "id": "388c9d56",
   "metadata": {},
   "outputs": [
    {
     "data": {
      "text/html": [
       "<div>\n",
       "<style scoped>\n",
       "    .dataframe tbody tr th:only-of-type {\n",
       "        vertical-align: middle;\n",
       "    }\n",
       "\n",
       "    .dataframe tbody tr th {\n",
       "        vertical-align: top;\n",
       "    }\n",
       "\n",
       "    .dataframe thead th {\n",
       "        text-align: right;\n",
       "    }\n",
       "</style>\n",
       "<table border=\"1\" class=\"dataframe\">\n",
       "  <thead>\n",
       "    <tr style=\"text-align: right;\">\n",
       "      <th></th>\n",
       "      <th>Airline</th>\n",
       "      <th>Date_of_Journey</th>\n",
       "      <th>Season</th>\n",
       "      <th>Source</th>\n",
       "      <th>Destination</th>\n",
       "      <th>Route</th>\n",
       "      <th>Dep_Time</th>\n",
       "      <th>Arrival_Time</th>\n",
       "      <th>Duration</th>\n",
       "      <th>Flight_Length</th>\n",
       "      <th>Peak_Hours</th>\n",
       "      <th>Total_Stops</th>\n",
       "      <th>Price</th>\n",
       "      <th>Additional_Info</th>\n",
       "    </tr>\n",
       "  </thead>\n",
       "  <tbody>\n",
       "    <tr>\n",
       "      <th>0</th>\n",
       "      <td>IndiGo</td>\n",
       "      <td>24/03/2019</td>\n",
       "      <td>Spring</td>\n",
       "      <td>Banglore</td>\n",
       "      <td>New Delhi</td>\n",
       "      <td>BLR ? DEL</td>\n",
       "      <td>22:20</td>\n",
       "      <td>01:10 22 Mar</td>\n",
       "      <td>2h 50m</td>\n",
       "      <td>Short</td>\n",
       "      <td>False</td>\n",
       "      <td>non-stop</td>\n",
       "      <td>3897</td>\n",
       "      <td>No info</td>\n",
       "    </tr>\n",
       "    <tr>\n",
       "      <th>1</th>\n",
       "      <td>Air India</td>\n",
       "      <td>1/05/2019</td>\n",
       "      <td>Spring</td>\n",
       "      <td>Kolkata</td>\n",
       "      <td>Banglore</td>\n",
       "      <td>CCU ? IXR ? BBI ? BLR</td>\n",
       "      <td>05:50</td>\n",
       "      <td>13:15</td>\n",
       "      <td>7h 25m</td>\n",
       "      <td>Long</td>\n",
       "      <td>False</td>\n",
       "      <td>2 stops</td>\n",
       "      <td>7662</td>\n",
       "      <td>No info</td>\n",
       "    </tr>\n",
       "    <tr>\n",
       "      <th>2</th>\n",
       "      <td>Jet Airways</td>\n",
       "      <td>9/06/2019</td>\n",
       "      <td>Spring</td>\n",
       "      <td>Delhi</td>\n",
       "      <td>Cochin</td>\n",
       "      <td>DEL ? LKO ? BOM ? COK</td>\n",
       "      <td>09:25</td>\n",
       "      <td>04:25 10 Jun</td>\n",
       "      <td>19h</td>\n",
       "      <td>Long</td>\n",
       "      <td>True</td>\n",
       "      <td>2 stops</td>\n",
       "      <td>13882</td>\n",
       "      <td>No info</td>\n",
       "    </tr>\n",
       "    <tr>\n",
       "      <th>3</th>\n",
       "      <td>IndiGo</td>\n",
       "      <td>12/05/2019</td>\n",
       "      <td>Spring</td>\n",
       "      <td>Kolkata</td>\n",
       "      <td>Banglore</td>\n",
       "      <td>CCU ? NAG ? BLR</td>\n",
       "      <td>18:05</td>\n",
       "      <td>23:30</td>\n",
       "      <td>5h 25m</td>\n",
       "      <td>Mid</td>\n",
       "      <td>True</td>\n",
       "      <td>1 stop</td>\n",
       "      <td>6218</td>\n",
       "      <td>No info</td>\n",
       "    </tr>\n",
       "    <tr>\n",
       "      <th>4</th>\n",
       "      <td>IndiGo</td>\n",
       "      <td>01/03/2019</td>\n",
       "      <td>Winter</td>\n",
       "      <td>Banglore</td>\n",
       "      <td>New Delhi</td>\n",
       "      <td>BLR ? NAG ? DEL</td>\n",
       "      <td>16:50</td>\n",
       "      <td>21:35</td>\n",
       "      <td>4h 45m</td>\n",
       "      <td>Mid</td>\n",
       "      <td>True</td>\n",
       "      <td>1 stop</td>\n",
       "      <td>13302</td>\n",
       "      <td>No info</td>\n",
       "    </tr>\n",
       "    <tr>\n",
       "      <th>...</th>\n",
       "      <td>...</td>\n",
       "      <td>...</td>\n",
       "      <td>...</td>\n",
       "      <td>...</td>\n",
       "      <td>...</td>\n",
       "      <td>...</td>\n",
       "      <td>...</td>\n",
       "      <td>...</td>\n",
       "      <td>...</td>\n",
       "      <td>...</td>\n",
       "      <td>...</td>\n",
       "      <td>...</td>\n",
       "      <td>...</td>\n",
       "      <td>...</td>\n",
       "    </tr>\n",
       "    <tr>\n",
       "      <th>10678</th>\n",
       "      <td>Air Asia</td>\n",
       "      <td>9/04/2019</td>\n",
       "      <td>Spring</td>\n",
       "      <td>Kolkata</td>\n",
       "      <td>Banglore</td>\n",
       "      <td>CCU ? BLR</td>\n",
       "      <td>19:55</td>\n",
       "      <td>22:25</td>\n",
       "      <td>2h 30m</td>\n",
       "      <td>Short</td>\n",
       "      <td>True</td>\n",
       "      <td>non-stop</td>\n",
       "      <td>4107</td>\n",
       "      <td>No info</td>\n",
       "    </tr>\n",
       "    <tr>\n",
       "      <th>10679</th>\n",
       "      <td>Air India</td>\n",
       "      <td>27/04/2019</td>\n",
       "      <td>Spring</td>\n",
       "      <td>Kolkata</td>\n",
       "      <td>Banglore</td>\n",
       "      <td>CCU ? BLR</td>\n",
       "      <td>20:45</td>\n",
       "      <td>23:20</td>\n",
       "      <td>2h 35m</td>\n",
       "      <td>Short</td>\n",
       "      <td>False</td>\n",
       "      <td>non-stop</td>\n",
       "      <td>4145</td>\n",
       "      <td>No info</td>\n",
       "    </tr>\n",
       "    <tr>\n",
       "      <th>10680</th>\n",
       "      <td>Jet Airways</td>\n",
       "      <td>27/04/2019</td>\n",
       "      <td>Spring</td>\n",
       "      <td>Banglore</td>\n",
       "      <td>Delhi</td>\n",
       "      <td>BLR ? DEL</td>\n",
       "      <td>08:20</td>\n",
       "      <td>11:20</td>\n",
       "      <td>3h</td>\n",
       "      <td>Mid</td>\n",
       "      <td>False</td>\n",
       "      <td>non-stop</td>\n",
       "      <td>7229</td>\n",
       "      <td>No info</td>\n",
       "    </tr>\n",
       "    <tr>\n",
       "      <th>10681</th>\n",
       "      <td>Vistara</td>\n",
       "      <td>01/03/2019</td>\n",
       "      <td>Winter</td>\n",
       "      <td>Banglore</td>\n",
       "      <td>New Delhi</td>\n",
       "      <td>BLR ? DEL</td>\n",
       "      <td>11:30</td>\n",
       "      <td>14:10</td>\n",
       "      <td>2h 40m</td>\n",
       "      <td>Short</td>\n",
       "      <td>True</td>\n",
       "      <td>non-stop</td>\n",
       "      <td>12648</td>\n",
       "      <td>No info</td>\n",
       "    </tr>\n",
       "    <tr>\n",
       "      <th>10682</th>\n",
       "      <td>Air India</td>\n",
       "      <td>9/05/2019</td>\n",
       "      <td>Spring</td>\n",
       "      <td>Delhi</td>\n",
       "      <td>Cochin</td>\n",
       "      <td>DEL ? GOI ? BOM ? COK</td>\n",
       "      <td>10:55</td>\n",
       "      <td>19:15</td>\n",
       "      <td>8h 20m</td>\n",
       "      <td>Long</td>\n",
       "      <td>True</td>\n",
       "      <td>2 stops</td>\n",
       "      <td>11753</td>\n",
       "      <td>No info</td>\n",
       "    </tr>\n",
       "  </tbody>\n",
       "</table>\n",
       "<p>10683 rows × 14 columns</p>\n",
       "</div>"
      ],
      "text/plain": [
       "           Airline Date_of_Journey  Season    Source Destination  \\\n",
       "0           IndiGo      24/03/2019  Spring  Banglore   New Delhi   \n",
       "1        Air India       1/05/2019  Spring   Kolkata    Banglore   \n",
       "2      Jet Airways       9/06/2019  Spring     Delhi      Cochin   \n",
       "3           IndiGo      12/05/2019  Spring   Kolkata    Banglore   \n",
       "4           IndiGo      01/03/2019  Winter  Banglore   New Delhi   \n",
       "...            ...             ...     ...       ...         ...   \n",
       "10678     Air Asia       9/04/2019  Spring   Kolkata    Banglore   \n",
       "10679    Air India      27/04/2019  Spring   Kolkata    Banglore   \n",
       "10680  Jet Airways      27/04/2019  Spring  Banglore       Delhi   \n",
       "10681      Vistara      01/03/2019  Winter  Banglore   New Delhi   \n",
       "10682    Air India       9/05/2019  Spring     Delhi      Cochin   \n",
       "\n",
       "                       Route Dep_Time  Arrival_Time Duration Flight_Length  \\\n",
       "0                  BLR ? DEL    22:20  01:10 22 Mar   2h 50m         Short   \n",
       "1      CCU ? IXR ? BBI ? BLR    05:50         13:15   7h 25m          Long   \n",
       "2      DEL ? LKO ? BOM ? COK    09:25  04:25 10 Jun      19h          Long   \n",
       "3            CCU ? NAG ? BLR    18:05         23:30   5h 25m           Mid   \n",
       "4            BLR ? NAG ? DEL    16:50         21:35   4h 45m           Mid   \n",
       "...                      ...      ...           ...      ...           ...   \n",
       "10678              CCU ? BLR    19:55         22:25   2h 30m         Short   \n",
       "10679              CCU ? BLR    20:45         23:20   2h 35m         Short   \n",
       "10680              BLR ? DEL    08:20         11:20       3h           Mid   \n",
       "10681              BLR ? DEL    11:30         14:10   2h 40m         Short   \n",
       "10682  DEL ? GOI ? BOM ? COK    10:55         19:15   8h 20m          Long   \n",
       "\n",
       "       Peak_Hours Total_Stops  Price Additional_Info  \n",
       "0           False    non-stop   3897         No info  \n",
       "1           False     2 stops   7662         No info  \n",
       "2            True     2 stops  13882         No info  \n",
       "3            True      1 stop   6218         No info  \n",
       "4            True      1 stop  13302         No info  \n",
       "...           ...         ...    ...             ...  \n",
       "10678        True    non-stop   4107         No info  \n",
       "10679       False    non-stop   4145         No info  \n",
       "10680       False    non-stop   7229         No info  \n",
       "10681        True    non-stop  12648         No info  \n",
       "10682        True     2 stops  11753         No info  \n",
       "\n",
       "[10683 rows x 14 columns]"
      ]
     },
     "execution_count": 13,
     "metadata": {},
     "output_type": "execute_result"
    }
   ],
   "source": [
    "# display data\n",
    "data"
   ]
  },
  {
   "cell_type": "markdown",
   "id": "42cb9563",
   "metadata": {},
   "source": [
    "# 3- Checking Outliers & Missing Values"
   ]
  },
  {
   "cell_type": "markdown",
   "id": "9d481e7e",
   "metadata": {},
   "source": [
    "## Price"
   ]
  },
  {
   "cell_type": "code",
   "execution_count": 14,
   "id": "83eb805d",
   "metadata": {},
   "outputs": [
    {
     "name": "stderr",
     "output_type": "stream",
     "text": [
      "C:\\Users\\Ash\\anaconda3\\lib\\site-packages\\seaborn\\_decorators.py:36: FutureWarning: Pass the following variable as a keyword arg: x. From version 0.12, the only valid positional argument will be `data`, and passing other arguments without an explicit keyword will result in an error or misinterpretation.\n",
      "  warnings.warn(\n"
     ]
    },
    {
     "data": {
      "text/plain": [
       "<AxesSubplot:xlabel='Price'>"
      ]
     },
     "execution_count": 14,
     "metadata": {},
     "output_type": "execute_result"
    },
    {
     "data": {
      "image/png": "[encoded data removed]",
      "text/plain": [
       "<Figure size 720x360 with 1 Axes>"
      ]
     },
     "metadata": {
      "needs_background": "light"
     },
     "output_type": "display_data"
    }
   ],
   "source": [
    "plt.figure(figsize= (10,5))\n",
    "sns.boxplot(data['Price'])"
   ]
  },
  {
   "cell_type": "code",
   "execution_count": 15,
   "id": "e31bff81",
   "metadata": {},
   "outputs": [
    {
     "data": {
      "text/plain": [
       "<seaborn.axisgrid.FacetGrid at 0x1ea7ab5e070>"
      ]
     },
     "execution_count": 15,
     "metadata": {},
     "output_type": "execute_result"
    },
    {
     "data": {
      "text/plain": [
       "<Figure size 1800x360 with 0 Axes>"
      ]
     },
     "metadata": {},
     "output_type": "display_data"
    },
    {
     "data": {
      "image/png": "[encoded data removed]",
      "text/plain": [
       "<Figure size 360x360 with 1 Axes>"
      ]
     },
     "metadata": {
      "needs_background": "light"
     },
     "output_type": "display_data"
    }
   ],
   "source": [
    "plt.figure(figsize= (25,5))\n",
    "sns.displot(data['Price'])"
   ]
  },
  {
   "cell_type": "code",
   "execution_count": 16,
   "id": "862113bd",
   "metadata": {},
   "outputs": [
    {
     "name": "stderr",
     "output_type": "stream",
     "text": [
      "C:\\Users\\Ash\\AppData\\Local\\Temp\\ipykernel_16280\\3135483442.py:2: SettingWithCopyWarning: \n",
      "A value is trying to be set on a copy of a slice from a DataFrame\n",
      "\n",
      "See the caveats in the documentation: https://pandas.pydata.org/pandas-docs/stable/user_guide/indexing.html#returning-a-view-versus-a-copy\n",
      "  data.drop(data[data['Price'] >= 22000].index, inplace=True)\n"
     ]
    }
   ],
   "source": [
    "# drop any row with a price equal to or more than 22000\n",
    "data.drop(data[data['Price'] >= 22000].index, inplace=True)"
   ]
  },
  {
   "cell_type": "code",
   "execution_count": 17,
   "id": "5fa4e9b2",
   "metadata": {},
   "outputs": [
    {
     "name": "stderr",
     "output_type": "stream",
     "text": [
      "C:\\Users\\Ash\\anaconda3\\lib\\site-packages\\seaborn\\_decorators.py:36: FutureWarning: Pass the following variable as a keyword arg: x. From version 0.12, the only valid positional argument will be `data`, and passing other arguments without an explicit keyword will result in an error or misinterpretation.\n",
      "  warnings.warn(\n"
     ]
    },
    {
     "data": {
      "text/plain": [
       "<AxesSubplot:xlabel='Price'>"
      ]
     },
     "execution_count": 17,
     "metadata": {},
     "output_type": "execute_result"
    },
    {
     "data": {
      "image/png": "[encoded data removed]",
      "text/plain": [
       "<Figure size 720x360 with 1 Axes>"
      ]
     },
     "metadata": {
      "needs_background": "light"
     },
     "output_type": "display_data"
    }
   ],
   "source": [
    "plt.figure(figsize= (10,5))\n",
    "sns.boxplot(data['Price'])"
   ]
  },
  {
   "cell_type": "markdown",
   "id": "19400c2f",
   "metadata": {},
   "source": [
    "## Price relative to Flight Length and Number of Stops"
   ]
  },
  {
   "cell_type": "code",
   "execution_count": 18,
   "id": "6bac13af",
   "metadata": {},
   "outputs": [
    {
     "data": {
      "text/plain": [
       "<AxesSubplot:xlabel='Price', ylabel='Flight_Length'>"
      ]
     },
     "execution_count": 18,
     "metadata": {},
     "output_type": "execute_result"
    },
    {
     "data": {
      "image/png": "[encoded data removed]",
      "text/plain": [
       "<Figure size 1800x720 with 1 Axes>"
      ]
     },
     "metadata": {
      "needs_background": "light"
     },
     "output_type": "display_data"
    }
   ],
   "source": [
    "plt.figure(figsize= (25,10))\n",
    "sns.boxplot(x='Price', y='Flight_Length', hue='Total_Stops', data=data)"
   ]
  },
  {
   "cell_type": "markdown",
   "id": "ec4a6e63",
   "metadata": {},
   "source": [
    "### Short Flights"
   ]
  },
  {
   "cell_type": "code",
   "execution_count": 19,
   "id": "e82a8561",
   "metadata": {},
   "outputs": [
    {
     "data": {
      "text/plain": [
       "<AxesSubplot:xlabel='Price', ylabel='Flight_Length'>"
      ]
     },
     "execution_count": 19,
     "metadata": {},
     "output_type": "execute_result"
    },
    {
     "data": {
      "image/png": "[encoded data removed]",
      "text/plain": [
       "<Figure size 720x360 with 1 Axes>"
      ]
     },
     "metadata": {
      "needs_background": "light"
     },
     "output_type": "display_data"
    }
   ],
   "source": [
    "plt.figure(figsize= (10,5))\n",
    "sns.boxplot(x='Price', y='Flight_Length', hue='Total_Stops', data=data[data['Flight_Length'] == 'Short'])"
   ]
  },
  {
   "cell_type": "code",
   "execution_count": 20,
   "id": "34ae8e7e",
   "metadata": {},
   "outputs": [
    {
     "name": "stderr",
     "output_type": "stream",
     "text": [
      "C:\\Users\\Ash\\AppData\\Local\\Temp\\ipykernel_16280\\2183174133.py:2: SettingWithCopyWarning: \n",
      "A value is trying to be set on a copy of a slice from a DataFrame\n",
      "\n",
      "See the caveats in the documentation: https://pandas.pydata.org/pandas-docs/stable/user_guide/indexing.html#returning-a-view-versus-a-copy\n",
      "  data.drop(data[(data['Flight_Length'] == 'Short') & (data['Total_Stops'] == '2 stops')].index, inplace=True)\n"
     ]
    }
   ],
   "source": [
    "# drop any row with a short flight and 2 stops\n",
    "data.drop(data[(data['Flight_Length'] == 'Short') & (data['Total_Stops'] == '2 stops')].index, inplace=True)"
   ]
  },
  {
   "cell_type": "code",
   "execution_count": 21,
   "id": "21a54afd",
   "metadata": {},
   "outputs": [
    {
     "name": "stderr",
     "output_type": "stream",
     "text": [
      "C:\\Users\\Ash\\AppData\\Local\\Temp\\ipykernel_16280\\2725843893.py:2: SettingWithCopyWarning: \n",
      "A value is trying to be set on a copy of a slice from a DataFrame\n",
      "\n",
      "See the caveats in the documentation: https://pandas.pydata.org/pandas-docs/stable/user_guide/indexing.html#returning-a-view-versus-a-copy\n",
      "  data.drop(data[(data['Price'] > 6500) & (data['Flight_Length'] == 'Short')].index, inplace=True)\n"
     ]
    }
   ],
   "source": [
    "# drop any row with a short flight and a price exceeding 6500\n",
    "data.drop(data[(data['Price'] > 6500) & (data['Flight_Length'] == 'Short')].index, inplace=True)"
   ]
  },
  {
   "cell_type": "code",
   "execution_count": 22,
   "id": "a30ba827",
   "metadata": {},
   "outputs": [
    {
     "name": "stderr",
     "output_type": "stream",
     "text": [
      "C:\\Users\\Ash\\AppData\\Local\\Temp\\ipykernel_16280\\806355120.py:2: SettingWithCopyWarning: \n",
      "A value is trying to be set on a copy of a slice from a DataFrame\n",
      "\n",
      "See the caveats in the documentation: https://pandas.pydata.org/pandas-docs/stable/user_guide/indexing.html#returning-a-view-versus-a-copy\n",
      "  data.drop(data[(data['Price'] < 1800) & (data['Flight_Length'] == 'Short')].index, inplace=True)\n"
     ]
    }
   ],
   "source": [
    "# drop any row with a short flight and a price below 1800\n",
    "data.drop(data[(data['Price'] < 1800) & (data['Flight_Length'] == 'Short')].index, inplace=True)"
   ]
  },
  {
   "cell_type": "code",
   "execution_count": 23,
   "id": "1fa43442",
   "metadata": {},
   "outputs": [
    {
     "data": {
      "text/plain": [
       "<AxesSubplot:xlabel='Price', ylabel='Flight_Length'>"
      ]
     },
     "execution_count": 23,
     "metadata": {},
     "output_type": "execute_result"
    },
    {
     "data": {
      "image/png": "[encoded data removed]",
      "text/plain": [
       "<Figure size 720x360 with 1 Axes>"
      ]
     },
     "metadata": {
      "needs_background": "light"
     },
     "output_type": "display_data"
    }
   ],
   "source": [
    "plt.figure(figsize= (10,5))\n",
    "sns.boxplot(x='Price', y='Flight_Length', hue='Total_Stops', data=data[data['Flight_Length'] == 'Short'])"
   ]
  },
  {
   "cell_type": "markdown",
   "id": "7165b214",
   "metadata": {},
   "source": [
    "### Long Flights"
   ]
  },
  {
   "cell_type": "code",
   "execution_count": 24,
   "id": "1f359f22",
   "metadata": {},
   "outputs": [
    {
     "data": {
      "text/plain": [
       "<AxesSubplot:xlabel='Price', ylabel='Flight_Length'>"
      ]
     },
     "execution_count": 24,
     "metadata": {},
     "output_type": "execute_result"
    },
    {
     "data": {
      "image/png": "[encoded data removed]",
      "text/plain": [
       "<Figure size 720x360 with 1 Axes>"
      ]
     },
     "metadata": {
      "needs_background": "light"
     },
     "output_type": "display_data"
    }
   ],
   "source": [
    "plt.figure(figsize= (10,5))\n",
    "sns.boxplot(x='Price', y='Flight_Length', hue='Total_Stops', data=data[data['Flight_Length'] == 'Long'])"
   ]
  },
  {
   "cell_type": "code",
   "execution_count": 25,
   "id": "60216adc",
   "metadata": {},
   "outputs": [
    {
     "name": "stderr",
     "output_type": "stream",
     "text": [
      "C:\\Users\\Ash\\AppData\\Local\\Temp\\ipykernel_16280\\1088580901.py:2: SettingWithCopyWarning: \n",
      "A value is trying to be set on a copy of a slice from a DataFrame\n",
      "\n",
      "See the caveats in the documentation: https://pandas.pydata.org/pandas-docs/stable/user_guide/indexing.html#returning-a-view-versus-a-copy\n",
      "  data.drop(data[(data['Price'] > 18500) & (data['Flight_Length'] == 'Long') & (data['Total_Stops'] == '2 stops')].index, inplace=True)\n"
     ]
    }
   ],
   "source": [
    "# drop any row with a long flight and 2 stops and a price exceeding 18500\n",
    "data.drop(data[(data['Price'] > 18500) & (data['Flight_Length'] == 'Long') & (data['Total_Stops'] == '2 stops')].index, inplace=True)"
   ]
  },
  {
   "cell_type": "code",
   "execution_count": 26,
   "id": "47721838",
   "metadata": {},
   "outputs": [
    {
     "name": "stderr",
     "output_type": "stream",
     "text": [
      "C:\\Users\\Ash\\AppData\\Local\\Temp\\ipykernel_16280\\1201494064.py:2: SettingWithCopyWarning: \n",
      "A value is trying to be set on a copy of a slice from a DataFrame\n",
      "\n",
      "See the caveats in the documentation: https://pandas.pydata.org/pandas-docs/stable/user_guide/indexing.html#returning-a-view-versus-a-copy\n",
      "  data.drop(data[(data['Price'] < 6000) & (data['Flight_Length'] == 'Long') & (data['Total_Stops'] == '2 stops')].index, inplace=True)\n"
     ]
    }
   ],
   "source": [
    "# drop any row with a long flight and 2 stops and a price below 6000\n",
    "data.drop(data[(data['Price'] < 6000) & (data['Flight_Length'] == 'Long') & (data['Total_Stops'] == '2 stops')].index, inplace=True)"
   ]
  },
  {
   "cell_type": "code",
   "execution_count": 27,
   "id": "a1e7dbb2",
   "metadata": {},
   "outputs": [
    {
     "name": "stderr",
     "output_type": "stream",
     "text": [
      "C:\\Users\\Ash\\AppData\\Local\\Temp\\ipykernel_16280\\2946314586.py:2: SettingWithCopyWarning: \n",
      "A value is trying to be set on a copy of a slice from a DataFrame\n",
      "\n",
      "See the caveats in the documentation: https://pandas.pydata.org/pandas-docs/stable/user_guide/indexing.html#returning-a-view-versus-a-copy\n",
      "  data.drop(data[(data['Price'] > 21000) & (data['Flight_Length'] == 'Long')].index, inplace=True)\n"
     ]
    }
   ],
   "source": [
    "# drop any row with a long flight and a price exceeding 21000\n",
    "data.drop(data[(data['Price'] > 21000) & (data['Flight_Length'] == 'Long')].index, inplace=True)"
   ]
  },
  {
   "cell_type": "code",
   "execution_count": 28,
   "id": "da1cf0f4",
   "metadata": {},
   "outputs": [
    {
     "name": "stderr",
     "output_type": "stream",
     "text": [
      "C:\\Users\\Ash\\AppData\\Local\\Temp\\ipykernel_16280\\2860368342.py:2: SettingWithCopyWarning: \n",
      "A value is trying to be set on a copy of a slice from a DataFrame\n",
      "\n",
      "See the caveats in the documentation: https://pandas.pydata.org/pandas-docs/stable/user_guide/indexing.html#returning-a-view-versus-a-copy\n",
      "  data.drop(data[data['Total_Stops'] == '4 stops'].index, inplace=True)\n"
     ]
    }
   ],
   "source": [
    "# drop any row with 4 stops\n",
    "data.drop(data[data['Total_Stops'] == '4 stops'].index, inplace=True)"
   ]
  },
  {
   "cell_type": "code",
   "execution_count": 29,
   "id": "4427eba9",
   "metadata": {},
   "outputs": [
    {
     "data": {
      "text/plain": [
       "<AxesSubplot:xlabel='Price', ylabel='Flight_Length'>"
      ]
     },
     "execution_count": 29,
     "metadata": {},
     "output_type": "execute_result"
    },
    {
     "data": {
      "image/png": "[encoded data removed]",
      "text/plain": [
       "<Figure size 720x360 with 1 Axes>"
      ]
     },
     "metadata": {
      "needs_background": "light"
     },
     "output_type": "display_data"
    }
   ],
   "source": [
    "plt.figure(figsize= (10,5))\n",
    "sns.boxplot(x='Price', y='Flight_Length', hue='Total_Stops', data=data[data['Flight_Length'] == 'Long'])"
   ]
  },
  {
   "cell_type": "markdown",
   "id": "8fe4c985",
   "metadata": {},
   "source": [
    "### Medium Flights"
   ]
  },
  {
   "cell_type": "code",
   "execution_count": 30,
   "id": "70106635",
   "metadata": {},
   "outputs": [
    {
     "data": {
      "text/plain": [
       "<AxesSubplot:xlabel='Price', ylabel='Flight_Length'>"
      ]
     },
     "execution_count": 30,
     "metadata": {},
     "output_type": "execute_result"
    },
    {
     "data": {
      "image/png": "[encoded data removed]",
      "text/plain": [
       "<Figure size 720x360 with 1 Axes>"
      ]
     },
     "metadata": {
      "needs_background": "light"
     },
     "output_type": "display_data"
    }
   ],
   "source": [
    "plt.figure(figsize= (10,5))\n",
    "sns.boxplot(x='Price', y='Flight_Length', hue='Total_Stops', data=data[data['Flight_Length'] == 'Mid'])"
   ]
  },
  {
   "cell_type": "code",
   "execution_count": 31,
   "id": "317e2c22",
   "metadata": {},
   "outputs": [
    {
     "name": "stderr",
     "output_type": "stream",
     "text": [
      "C:\\Users\\Ash\\AppData\\Local\\Temp\\ipykernel_16280\\2383403868.py:2: SettingWithCopyWarning: \n",
      "A value is trying to be set on a copy of a slice from a DataFrame\n",
      "\n",
      "See the caveats in the documentation: https://pandas.pydata.org/pandas-docs/stable/user_guide/indexing.html#returning-a-view-versus-a-copy\n",
      "  data.drop(data[(data['Price'] > 12000) & (data['Flight_Length'] == 'Mid') & (data['Total_Stops'] == '1 stop')].index, inplace=True)\n"
     ]
    }
   ],
   "source": [
    "# drop any row with a medium flight and 1 stop and a price exceeding 12000\n",
    "data.drop(data[(data['Price'] > 12000) & (data['Flight_Length'] == 'Mid') & (data['Total_Stops'] == '1 stop')].index, inplace=True)"
   ]
  },
  {
   "cell_type": "code",
   "execution_count": 32,
   "id": "754c62d2",
   "metadata": {},
   "outputs": [
    {
     "name": "stderr",
     "output_type": "stream",
     "text": [
      "C:\\Users\\Ash\\AppData\\Local\\Temp\\ipykernel_16280\\1846683344.py:2: SettingWithCopyWarning: \n",
      "A value is trying to be set on a copy of a slice from a DataFrame\n",
      "\n",
      "See the caveats in the documentation: https://pandas.pydata.org/pandas-docs/stable/user_guide/indexing.html#returning-a-view-versus-a-copy\n",
      "  data.drop(data[(data['Flight_Length'] == 'Mid') & (data['Total_Stops'] == '2 stops')].index, inplace=True)\n"
     ]
    }
   ],
   "source": [
    "# drop any row with a medium flight and 2 stops\n",
    "data.drop(data[(data['Flight_Length'] == 'Mid') & (data['Total_Stops'] == '2 stops')].index, inplace=True)"
   ]
  },
  {
   "cell_type": "code",
   "execution_count": 33,
   "id": "acce6fca",
   "metadata": {},
   "outputs": [
    {
     "data": {
      "text/plain": [
       "<AxesSubplot:xlabel='Price', ylabel='Flight_Length'>"
      ]
     },
     "execution_count": 33,
     "metadata": {},
     "output_type": "execute_result"
    },
    {
     "data": {
      "image/png": "[encoded data removed]",
      "text/plain": [
       "<Figure size 720x360 with 1 Axes>"
      ]
     },
     "metadata": {
      "needs_background": "light"
     },
     "output_type": "display_data"
    }
   ],
   "source": [
    "plt.figure(figsize= (10,5))\n",
    "sns.boxplot(x='Price', y='Flight_Length', hue='Total_Stops', data=data[data['Flight_Length'] == 'Mid'])"
   ]
  },
  {
   "cell_type": "code",
   "execution_count": 34,
   "id": "091bd4ad",
   "metadata": {},
   "outputs": [
    {
     "name": "stderr",
     "output_type": "stream",
     "text": [
      "C:\\Users\\Ash\\AppData\\Local\\Temp\\ipykernel_16280\\1094349487.py:2: SettingWithCopyWarning: \n",
      "A value is trying to be set on a copy of a slice from a DataFrame\n",
      "\n",
      "See the caveats in the documentation: https://pandas.pydata.org/pandas-docs/stable/user_guide/indexing.html#returning-a-view-versus-a-copy\n",
      "  data.drop(data[(data['Flight_Length'] == 'Mid') & (data['Price'] > 11000)].index, inplace=True)\n"
     ]
    }
   ],
   "source": [
    "# drop any row with a medium flight and a price exceeding 11000\n",
    "data.drop(data[(data['Flight_Length'] == 'Mid') & (data['Price'] > 11000)].index, inplace=True)"
   ]
  },
  {
   "cell_type": "code",
   "execution_count": 35,
   "id": "999a60c7",
   "metadata": {},
   "outputs": [
    {
     "name": "stderr",
     "output_type": "stream",
     "text": [
      "C:\\Users\\Ash\\AppData\\Local\\Temp\\ipykernel_16280\\2219873674.py:2: SettingWithCopyWarning: \n",
      "A value is trying to be set on a copy of a slice from a DataFrame\n",
      "\n",
      "See the caveats in the documentation: https://pandas.pydata.org/pandas-docs/stable/user_guide/indexing.html#returning-a-view-versus-a-copy\n",
      "  data.drop(data[(data['Flight_Length'] == 'Mid') & (data['Price'] > 9500) & (data['Total_Stops'] == '1 stop')].index, inplace=True)\n"
     ]
    }
   ],
   "source": [
    "# drop any row with a medium flight and a price exceeding 9500 and 1 stop\n",
    "data.drop(data[(data['Flight_Length'] == 'Mid') & (data['Price'] > 9500) & (data['Total_Stops'] == '1 stop')].index, inplace=True)"
   ]
  },
  {
   "cell_type": "code",
   "execution_count": 36,
   "id": "6f186eb2",
   "metadata": {},
   "outputs": [
    {
     "data": {
      "text/plain": [
       "<AxesSubplot:xlabel='Price', ylabel='Flight_Length'>"
      ]
     },
     "execution_count": 36,
     "metadata": {},
     "output_type": "execute_result"
    },
    {
     "data": {
      "image/png": "[encoded data removed]",
      "text/plain": [
       "<Figure size 720x360 with 1 Axes>"
      ]
     },
     "metadata": {
      "needs_background": "light"
     },
     "output_type": "display_data"
    }
   ],
   "source": [
    "plt.figure(figsize= (10,5))\n",
    "sns.boxplot(x='Price', y='Flight_Length', hue='Total_Stops', data=data[data['Flight_Length'] == 'Mid'])"
   ]
  },
  {
   "cell_type": "markdown",
   "id": "81804c9f",
   "metadata": {},
   "source": [
    "### Review"
   ]
  },
  {
   "cell_type": "code",
   "execution_count": 37,
   "id": "d04fad6d",
   "metadata": {},
   "outputs": [
    {
     "data": {
      "text/plain": [
       "<AxesSubplot:xlabel='Price', ylabel='Flight_Length'>"
      ]
     },
     "execution_count": 37,
     "metadata": {},
     "output_type": "execute_result"
    },
    {
     "data": {
      "image/png": "[encoded data removed]",
      "text/plain": [
       "<Figure size 1800x720 with 1 Axes>"
      ]
     },
     "metadata": {
      "needs_background": "light"
     },
     "output_type": "display_data"
    }
   ],
   "source": [
    "plt.figure(figsize= (25,10))\n",
    "sns.boxplot(x='Price', y='Flight_Length', hue='Total_Stops', data=data)"
   ]
  },
  {
   "cell_type": "markdown",
   "id": "eea9dd09",
   "metadata": {},
   "source": [
    "## Price relative to Airlines"
   ]
  },
  {
   "cell_type": "code",
   "execution_count": 38,
   "id": "a5d86a4f",
   "metadata": {},
   "outputs": [],
   "source": [
    "# group data by airline\n",
    "byAirline = data.groupby('Airline')"
   ]
  },
  {
   "cell_type": "code",
   "execution_count": 39,
   "id": "a2d56471",
   "metadata": {},
   "outputs": [
    {
     "data": {
      "text/html": [
       "<div>\n",
       "<style scoped>\n",
       "    .dataframe tbody tr th:only-of-type {\n",
       "        vertical-align: middle;\n",
       "    }\n",
       "\n",
       "    .dataframe tbody tr th {\n",
       "        vertical-align: top;\n",
       "    }\n",
       "\n",
       "    .dataframe thead tr th {\n",
       "        text-align: left;\n",
       "    }\n",
       "\n",
       "    .dataframe thead tr:last-of-type th {\n",
       "        text-align: right;\n",
       "    }\n",
       "</style>\n",
       "<table border=\"1\" class=\"dataframe\">\n",
       "  <thead>\n",
       "    <tr>\n",
       "      <th></th>\n",
       "      <th colspan=\"8\" halign=\"left\">Price</th>\n",
       "    </tr>\n",
       "    <tr>\n",
       "      <th></th>\n",
       "      <th>count</th>\n",
       "      <th>mean</th>\n",
       "      <th>std</th>\n",
       "      <th>min</th>\n",
       "      <th>25%</th>\n",
       "      <th>50%</th>\n",
       "      <th>75%</th>\n",
       "      <th>max</th>\n",
       "    </tr>\n",
       "    <tr>\n",
       "      <th>Airline</th>\n",
       "      <th></th>\n",
       "      <th></th>\n",
       "      <th></th>\n",
       "      <th></th>\n",
       "      <th></th>\n",
       "      <th></th>\n",
       "      <th></th>\n",
       "      <th></th>\n",
       "    </tr>\n",
       "  </thead>\n",
       "  <tbody>\n",
       "    <tr>\n",
       "      <th>Air Asia</th>\n",
       "      <td>297.0</td>\n",
       "      <td>5396.367003</td>\n",
       "      <td>1819.371328</td>\n",
       "      <td>3383.0</td>\n",
       "      <td>4282.00</td>\n",
       "      <td>4483.0</td>\n",
       "      <td>6181.00</td>\n",
       "      <td>13474.0</td>\n",
       "    </tr>\n",
       "    <tr>\n",
       "      <th>Air India</th>\n",
       "      <td>1636.0</td>\n",
       "      <td>9420.025672</td>\n",
       "      <td>3456.740271</td>\n",
       "      <td>2050.0</td>\n",
       "      <td>6533.25</td>\n",
       "      <td>9639.5</td>\n",
       "      <td>12173.00</td>\n",
       "      <td>18959.0</td>\n",
       "    </tr>\n",
       "    <tr>\n",
       "      <th>GoAir</th>\n",
       "      <td>175.0</td>\n",
       "      <td>5325.605714</td>\n",
       "      <td>1686.685684</td>\n",
       "      <td>3398.0</td>\n",
       "      <td>3898.00</td>\n",
       "      <td>4959.0</td>\n",
       "      <td>6286.00</td>\n",
       "      <td>10586.0</td>\n",
       "    </tr>\n",
       "    <tr>\n",
       "      <th>IndiGo</th>\n",
       "      <td>1917.0</td>\n",
       "      <td>5417.243088</td>\n",
       "      <td>1982.148989</td>\n",
       "      <td>2227.0</td>\n",
       "      <td>4174.00</td>\n",
       "      <td>4823.0</td>\n",
       "      <td>6316.00</td>\n",
       "      <td>16162.0</td>\n",
       "    </tr>\n",
       "    <tr>\n",
       "      <th>Jet Airways</th>\n",
       "      <td>3486.0</td>\n",
       "      <td>11281.890132</td>\n",
       "      <td>3410.981555</td>\n",
       "      <td>1840.0</td>\n",
       "      <td>9314.00</td>\n",
       "      <td>11257.5</td>\n",
       "      <td>13941.00</td>\n",
       "      <td>20800.0</td>\n",
       "    </tr>\n",
       "    <tr>\n",
       "      <th>Multiple carriers</th>\n",
       "      <td>1180.0</td>\n",
       "      <td>10710.944068</td>\n",
       "      <td>3245.980779</td>\n",
       "      <td>5797.0</td>\n",
       "      <td>7695.00</td>\n",
       "      <td>10197.0</td>\n",
       "      <td>13572.75</td>\n",
       "      <td>19332.0</td>\n",
       "    </tr>\n",
       "    <tr>\n",
       "      <th>Multiple carriers Premium economy</th>\n",
       "      <td>13.0</td>\n",
       "      <td>11418.846154</td>\n",
       "      <td>1717.153936</td>\n",
       "      <td>9845.0</td>\n",
       "      <td>10161.00</td>\n",
       "      <td>11269.0</td>\n",
       "      <td>11269.00</td>\n",
       "      <td>14629.0</td>\n",
       "    </tr>\n",
       "    <tr>\n",
       "      <th>SpiceJet</th>\n",
       "      <td>793.0</td>\n",
       "      <td>4227.813367</td>\n",
       "      <td>1598.850885</td>\n",
       "      <td>1965.0</td>\n",
       "      <td>3573.00</td>\n",
       "      <td>3873.0</td>\n",
       "      <td>4622.00</td>\n",
       "      <td>13552.0</td>\n",
       "    </tr>\n",
       "    <tr>\n",
       "      <th>Trujet</th>\n",
       "      <td>1.0</td>\n",
       "      <td>4140.000000</td>\n",
       "      <td>NaN</td>\n",
       "      <td>4140.0</td>\n",
       "      <td>4140.00</td>\n",
       "      <td>4140.0</td>\n",
       "      <td>4140.00</td>\n",
       "      <td>4140.0</td>\n",
       "    </tr>\n",
       "    <tr>\n",
       "      <th>Vistara</th>\n",
       "      <td>423.0</td>\n",
       "      <td>7410.744681</td>\n",
       "      <td>2599.531439</td>\n",
       "      <td>3687.0</td>\n",
       "      <td>4878.00</td>\n",
       "      <td>7266.0</td>\n",
       "      <td>9187.00</td>\n",
       "      <td>18387.0</td>\n",
       "    </tr>\n",
       "    <tr>\n",
       "      <th>Vistara Premium economy</th>\n",
       "      <td>1.0</td>\n",
       "      <td>5969.000000</td>\n",
       "      <td>NaN</td>\n",
       "      <td>5969.0</td>\n",
       "      <td>5969.00</td>\n",
       "      <td>5969.0</td>\n",
       "      <td>5969.00</td>\n",
       "      <td>5969.0</td>\n",
       "    </tr>\n",
       "  </tbody>\n",
       "</table>\n",
       "</div>"
      ],
      "text/plain": [
       "                                    Price                                     \\\n",
       "                                    count          mean          std     min   \n",
       "Airline                                                                        \n",
       "Air Asia                            297.0   5396.367003  1819.371328  3383.0   \n",
       "Air India                          1636.0   9420.025672  3456.740271  2050.0   \n",
       "GoAir                               175.0   5325.605714  1686.685684  3398.0   \n",
       "IndiGo                             1917.0   5417.243088  1982.148989  2227.0   \n",
       "Jet Airways                        3486.0  11281.890132  3410.981555  1840.0   \n",
       "Multiple carriers                  1180.0  10710.944068  3245.980779  5797.0   \n",
       "Multiple carriers Premium economy    13.0  11418.846154  1717.153936  9845.0   \n",
       "SpiceJet                            793.0   4227.813367  1598.850885  1965.0   \n",
       "Trujet                                1.0   4140.000000          NaN  4140.0   \n",
       "Vistara                             423.0   7410.744681  2599.531439  3687.0   \n",
       "Vistara Premium economy               1.0   5969.000000          NaN  5969.0   \n",
       "\n",
       "                                                                         \n",
       "                                        25%      50%       75%      max  \n",
       "Airline                                                                  \n",
       "Air Asia                            4282.00   4483.0   6181.00  13474.0  \n",
       "Air India                           6533.25   9639.5  12173.00  18959.0  \n",
       "GoAir                               3898.00   4959.0   6286.00  10586.0  \n",
       "IndiGo                              4174.00   4823.0   6316.00  16162.0  \n",
       "Jet Airways                         9314.00  11257.5  13941.00  20800.0  \n",
       "Multiple carriers                   7695.00  10197.0  13572.75  19332.0  \n",
       "Multiple carriers Premium economy  10161.00  11269.0  11269.00  14629.0  \n",
       "SpiceJet                            3573.00   3873.0   4622.00  13552.0  \n",
       "Trujet                              4140.00   4140.0   4140.00   4140.0  \n",
       "Vistara                             4878.00   7266.0   9187.00  18387.0  \n",
       "Vistara Premium economy             5969.00   5969.0   5969.00   5969.0  "
      ]
     },
     "execution_count": 39,
     "metadata": {},
     "output_type": "execute_result"
    }
   ],
   "source": [
    "# display description of (numerical) data grouped by airline\n",
    "byAirline.describe()"
   ]
  },
  {
   "cell_type": "code",
   "execution_count": 40,
   "id": "fe7a948b",
   "metadata": {},
   "outputs": [
    {
     "name": "stderr",
     "output_type": "stream",
     "text": [
      "C:\\Users\\Ash\\AppData\\Local\\Temp\\ipykernel_16280\\2990022425.py:2: SettingWithCopyWarning: \n",
      "A value is trying to be set on a copy of a slice from a DataFrame\n",
      "\n",
      "See the caveats in the documentation: https://pandas.pydata.org/pandas-docs/stable/user_guide/indexing.html#returning-a-view-versus-a-copy\n",
      "  data.drop(data[(data['Airline'] == 'Trujet') | (data['Airline'] == 'Vistara Premium economy') | (data['Airline'] == 'Multiple carriers Premium economy')].index, inplace=True)\n"
     ]
    }
   ],
   "source": [
    "# drop Trujet, Vistara Premium economy and Multiple carriers Premium economy airlines from data (due to their very low numbers)\n",
    "data.drop(data[(data['Airline'] == 'Trujet') | (data['Airline'] == 'Vistara Premium economy') | (data['Airline'] == 'Multiple carriers Premium economy')].index, inplace=True)"
   ]
  },
  {
   "cell_type": "markdown",
   "id": "31a12a99",
   "metadata": {},
   "source": [
    "### Air Asia"
   ]
  },
  {
   "cell_type": "code",
   "execution_count": 41,
   "id": "6987ff0e",
   "metadata": {},
   "outputs": [
    {
     "data": {
      "text/plain": [
       "<AxesSubplot:xlabel='Price', ylabel='Airline'>"
      ]
     },
     "execution_count": 41,
     "metadata": {},
     "output_type": "execute_result"
    },
    {
     "data": {
      "image/png": "[encoded data removed]",
      "text/plain": [
       "<Figure size 432x288 with 1 Axes>"
      ]
     },
     "metadata": {
      "needs_background": "light"
     },
     "output_type": "display_data"
    }
   ],
   "source": [
    "sns.boxplot(x='Price', y='Airline', data=data[data['Airline'] == 'Air Asia'])"
   ]
  },
  {
   "cell_type": "code",
   "execution_count": 42,
   "id": "6ad5af55",
   "metadata": {},
   "outputs": [
    {
     "name": "stderr",
     "output_type": "stream",
     "text": [
      "C:\\Users\\Ash\\AppData\\Local\\Temp\\ipykernel_16280\\2389316039.py:2: SettingWithCopyWarning: \n",
      "A value is trying to be set on a copy of a slice from a DataFrame\n",
      "\n",
      "See the caveats in the documentation: https://pandas.pydata.org/pandas-docs/stable/user_guide/indexing.html#returning-a-view-versus-a-copy\n",
      "  data.drop(data[(data['Airline'] == 'Air Asia') & (data['Price'] > 9000)].index, inplace=True)\n"
     ]
    }
   ],
   "source": [
    "# drop any row from Air Asia with a price exceeding 9000\n",
    "data.drop(data[(data['Airline'] == 'Air Asia') & (data['Price'] > 9000)].index, inplace=True)"
   ]
  },
  {
   "cell_type": "code",
   "execution_count": 43,
   "id": "c2e297af",
   "metadata": {},
   "outputs": [
    {
     "data": {
      "text/plain": [
       "<AxesSubplot:xlabel='Price', ylabel='Airline'>"
      ]
     },
     "execution_count": 43,
     "metadata": {},
     "output_type": "execute_result"
    },
    {
     "data": {
      "image/png": "[encoded data removed]",
      "text/plain": [
       "<Figure size 432x288 with 1 Axes>"
      ]
     },
     "metadata": {
      "needs_background": "light"
     },
     "output_type": "display_data"
    }
   ],
   "source": [
    "sns.boxplot(x='Price', y='Airline', data=data[data['Airline'] == 'Air Asia'])"
   ]
  },
  {
   "cell_type": "markdown",
   "id": "8810c1f8",
   "metadata": {},
   "source": [
    "### Air India"
   ]
  },
  {
   "cell_type": "code",
   "execution_count": 44,
   "id": "ce580385",
   "metadata": {},
   "outputs": [
    {
     "data": {
      "text/plain": [
       "<AxesSubplot:xlabel='Price', ylabel='Airline'>"
      ]
     },
     "execution_count": 44,
     "metadata": {},
     "output_type": "execute_result"
    },
    {
     "data": {
      "image/png": "[encoded data removed]",
      "text/plain": [
       "<Figure size 432x288 with 1 Axes>"
      ]
     },
     "metadata": {
      "needs_background": "light"
     },
     "output_type": "display_data"
    }
   ],
   "source": [
    "sns.boxplot(x='Price', y='Airline', data=data[data['Airline'] == 'Air India'])"
   ]
  },
  {
   "cell_type": "markdown",
   "id": "bc8449e4",
   "metadata": {},
   "source": [
    "### GoAir"
   ]
  },
  {
   "cell_type": "code",
   "execution_count": 45,
   "id": "e06cdbb4",
   "metadata": {},
   "outputs": [
    {
     "data": {
      "text/plain": [
       "<AxesSubplot:xlabel='Price', ylabel='Airline'>"
      ]
     },
     "execution_count": 45,
     "metadata": {},
     "output_type": "execute_result"
    },
    {
     "data": {
      "image/png": "[encoded data removed]",
      "text/plain": [
       "<Figure size 432x288 with 1 Axes>"
      ]
     },
     "metadata": {
      "needs_background": "light"
     },
     "output_type": "display_data"
    }
   ],
   "source": [
    "sns.boxplot(x='Price', y='Airline', data=data[data['Airline'] == 'GoAir'])"
   ]
  },
  {
   "cell_type": "code",
   "execution_count": 46,
   "id": "aa34bec8",
   "metadata": {},
   "outputs": [
    {
     "name": "stderr",
     "output_type": "stream",
     "text": [
      "C:\\Users\\Ash\\AppData\\Local\\Temp\\ipykernel_16280\\273382969.py:2: SettingWithCopyWarning: \n",
      "A value is trying to be set on a copy of a slice from a DataFrame\n",
      "\n",
      "See the caveats in the documentation: https://pandas.pydata.org/pandas-docs/stable/user_guide/indexing.html#returning-a-view-versus-a-copy\n",
      "  data.drop(data[(data['Airline'] == 'GoAir') & (data['Price'] > 9500)].index, inplace=True)\n"
     ]
    }
   ],
   "source": [
    "# drop any row from GoAir with a price exceeding 9500\n",
    "data.drop(data[(data['Airline'] == 'GoAir') & (data['Price'] > 9500)].index, inplace=True)"
   ]
  },
  {
   "cell_type": "code",
   "execution_count": 47,
   "id": "504ead1d",
   "metadata": {},
   "outputs": [
    {
     "data": {
      "text/plain": [
       "<AxesSubplot:xlabel='Price', ylabel='Airline'>"
      ]
     },
     "execution_count": 47,
     "metadata": {},
     "output_type": "execute_result"
    },
    {
     "data": {
      "image/png": "[encoded data removed]",
      "text/plain": [
       "<Figure size 432x288 with 1 Axes>"
      ]
     },
     "metadata": {
      "needs_background": "light"
     },
     "output_type": "display_data"
    }
   ],
   "source": [
    "sns.boxplot(x='Price', y='Airline', data=data[data['Airline'] == 'GoAir'])"
   ]
  },
  {
   "cell_type": "markdown",
   "id": "af108089",
   "metadata": {},
   "source": [
    "### IndieGo"
   ]
  },
  {
   "cell_type": "code",
   "execution_count": 48,
   "id": "1c521926",
   "metadata": {},
   "outputs": [
    {
     "data": {
      "text/plain": [
       "<AxesSubplot:xlabel='Price', ylabel='Airline'>"
      ]
     },
     "execution_count": 48,
     "metadata": {},
     "output_type": "execute_result"
    },
    {
     "data": {
      "image/png": "[encoded data removed]",
      "text/plain": [
       "<Figure size 432x288 with 1 Axes>"
      ]
     },
     "metadata": {
      "needs_background": "light"
     },
     "output_type": "display_data"
    }
   ],
   "source": [
    "sns.boxplot(x='Price', y='Airline', data=data[data['Airline'] == 'IndiGo'])"
   ]
  },
  {
   "cell_type": "code",
   "execution_count": 49,
   "id": "a21325d6",
   "metadata": {},
   "outputs": [
    {
     "name": "stderr",
     "output_type": "stream",
     "text": [
      "C:\\Users\\Ash\\AppData\\Local\\Temp\\ipykernel_16280\\3433727215.py:2: SettingWithCopyWarning: \n",
      "A value is trying to be set on a copy of a slice from a DataFrame\n",
      "\n",
      "See the caveats in the documentation: https://pandas.pydata.org/pandas-docs/stable/user_guide/indexing.html#returning-a-view-versus-a-copy\n",
      "  data.drop(data[(data['Airline'] == 'IndiGo') & (data['Price'] > 9000)].index, inplace=True)\n"
     ]
    }
   ],
   "source": [
    "# drop any row from IndiGo with a price exceeding 9000\n",
    "data.drop(data[(data['Airline'] == 'IndiGo') & (data['Price'] > 9000)].index, inplace=True)"
   ]
  },
  {
   "cell_type": "code",
   "execution_count": 50,
   "id": "d2c3981d",
   "metadata": {},
   "outputs": [
    {
     "data": {
      "text/plain": [
       "<AxesSubplot:xlabel='Price', ylabel='Airline'>"
      ]
     },
     "execution_count": 50,
     "metadata": {},
     "output_type": "execute_result"
    },
    {
     "data": {
      "image/png": "[encoded data removed]",
      "text/plain": [
       "<Figure size 432x288 with 1 Axes>"
      ]
     },
     "metadata": {
      "needs_background": "light"
     },
     "output_type": "display_data"
    }
   ],
   "source": [
    "sns.boxplot(x='Price', y='Airline', data=data[data['Airline'] == 'IndiGo'])"
   ]
  },
  {
   "cell_type": "markdown",
   "id": "b2d69543",
   "metadata": {},
   "source": [
    "### Jet Airways"
   ]
  },
  {
   "cell_type": "code",
   "execution_count": 51,
   "id": "bedb50f4",
   "metadata": {},
   "outputs": [
    {
     "data": {
      "text/plain": [
       "<AxesSubplot:xlabel='Price', ylabel='Airline'>"
      ]
     },
     "execution_count": 51,
     "metadata": {},
     "output_type": "execute_result"
    },
    {
     "data": {
      "image/png": "[encoded data removed]",
      "text/plain": [
       "<Figure size 432x288 with 1 Axes>"
      ]
     },
     "metadata": {
      "needs_background": "light"
     },
     "output_type": "display_data"
    }
   ],
   "source": [
    "sns.boxplot(x='Price', y='Airline', data=data[data['Airline'] == 'Jet Airways'])"
   ]
  },
  {
   "cell_type": "code",
   "execution_count": 52,
   "id": "ecd43ae1",
   "metadata": {},
   "outputs": [
    {
     "name": "stderr",
     "output_type": "stream",
     "text": [
      "C:\\Users\\Ash\\AppData\\Local\\Temp\\ipykernel_16280\\1853980827.py:2: SettingWithCopyWarning: \n",
      "A value is trying to be set on a copy of a slice from a DataFrame\n",
      "\n",
      "See the caveats in the documentation: https://pandas.pydata.org/pandas-docs/stable/user_guide/indexing.html#returning-a-view-versus-a-copy\n",
      "  data.drop(data[(data['Airline'] == 'Jet Airways') & (data['Price'] < 2500)].index, inplace=True)\n"
     ]
    }
   ],
   "source": [
    "# drop any row from Jet Airways with a price below 2500\n",
    "data.drop(data[(data['Airline'] == 'Jet Airways') & (data['Price'] < 2500)].index, inplace=True)"
   ]
  },
  {
   "cell_type": "code",
   "execution_count": 53,
   "id": "755e35eb",
   "metadata": {},
   "outputs": [
    {
     "data": {
      "text/plain": [
       "<AxesSubplot:xlabel='Price', ylabel='Airline'>"
      ]
     },
     "execution_count": 53,
     "metadata": {},
     "output_type": "execute_result"
    },
    {
     "data": {
      "image/png": "[encoded data removed]",
      "text/plain": [
       "<Figure size 432x288 with 1 Axes>"
      ]
     },
     "metadata": {
      "needs_background": "light"
     },
     "output_type": "display_data"
    }
   ],
   "source": [
    "sns.boxplot(x='Price', y='Airline', data=data[data['Airline'] == 'Jet Airways'])"
   ]
  },
  {
   "cell_type": "markdown",
   "id": "e76fd267",
   "metadata": {},
   "source": [
    "### Multiple carriers"
   ]
  },
  {
   "cell_type": "code",
   "execution_count": 54,
   "id": "15a16474",
   "metadata": {},
   "outputs": [
    {
     "data": {
      "text/plain": [
       "<AxesSubplot:xlabel='Price', ylabel='Airline'>"
      ]
     },
     "execution_count": 54,
     "metadata": {},
     "output_type": "execute_result"
    },
    {
     "data": {
      "image/png": "[encoded data removed]",
      "text/plain": [
       "<Figure size 432x288 with 1 Axes>"
      ]
     },
     "metadata": {
      "needs_background": "light"
     },
     "output_type": "display_data"
    }
   ],
   "source": [
    "sns.boxplot(x='Price', y='Airline', data=data[data['Airline'] == 'Multiple carriers'])"
   ]
  },
  {
   "cell_type": "markdown",
   "id": "b7237d35",
   "metadata": {},
   "source": [
    "### SpiceJet"
   ]
  },
  {
   "cell_type": "code",
   "execution_count": 55,
   "id": "670ec46f",
   "metadata": {},
   "outputs": [
    {
     "data": {
      "text/plain": [
       "<AxesSubplot:xlabel='Price', ylabel='Airline'>"
      ]
     },
     "execution_count": 55,
     "metadata": {},
     "output_type": "execute_result"
    },
    {
     "data": {
      "image/png": "[encoded data removed]",
      "text/plain": [
       "<Figure size 432x288 with 1 Axes>"
      ]
     },
     "metadata": {
      "needs_background": "light"
     },
     "output_type": "display_data"
    }
   ],
   "source": [
    "sns.boxplot(x='Price', y='Airline', data=data[data['Airline'] == 'SpiceJet'])"
   ]
  },
  {
   "cell_type": "code",
   "execution_count": 56,
   "id": "80cde0cb",
   "metadata": {},
   "outputs": [
    {
     "name": "stderr",
     "output_type": "stream",
     "text": [
      "C:\\Users\\Ash\\AppData\\Local\\Temp\\ipykernel_16280\\2502581758.py:2: SettingWithCopyWarning: \n",
      "A value is trying to be set on a copy of a slice from a DataFrame\n",
      "\n",
      "See the caveats in the documentation: https://pandas.pydata.org/pandas-docs/stable/user_guide/indexing.html#returning-a-view-versus-a-copy\n",
      "  data.drop(data[(data['Airline'] == 'SpiceJet') & ((data['Price'] > 4300) | (data['Price'] < 3200))].index, inplace=True)\n"
     ]
    }
   ],
   "source": [
    "# drop any row from SpiceJet with a price above 4300 or a price below 3200\n",
    "data.drop(data[(data['Airline'] == 'SpiceJet') & ((data['Price'] > 4300) | (data['Price'] < 3200))].index, inplace=True)"
   ]
  },
  {
   "cell_type": "code",
   "execution_count": 57,
   "id": "4fd656f9",
   "metadata": {},
   "outputs": [
    {
     "data": {
      "text/plain": [
       "<AxesSubplot:xlabel='Price', ylabel='Airline'>"
      ]
     },
     "execution_count": 57,
     "metadata": {},
     "output_type": "execute_result"
    },
    {
     "data": {
      "image/png": "[encoded data removed]",
      "text/plain": [
       "<Figure size 432x288 with 1 Axes>"
      ]
     },
     "metadata": {
      "needs_background": "light"
     },
     "output_type": "display_data"
    }
   ],
   "source": [
    "sns.boxplot(x='Price', y='Airline', data=data[data['Airline'] == 'SpiceJet'])"
   ]
  },
  {
   "cell_type": "markdown",
   "id": "131ea82b",
   "metadata": {},
   "source": [
    "### Vistara"
   ]
  },
  {
   "cell_type": "code",
   "execution_count": 58,
   "id": "f49962b1",
   "metadata": {},
   "outputs": [
    {
     "data": {
      "text/plain": [
       "<AxesSubplot:xlabel='Price', ylabel='Airline'>"
      ]
     },
     "execution_count": 58,
     "metadata": {},
     "output_type": "execute_result"
    },
    {
     "data": {
      "image/png": "[encoded data removed]",
      "text/plain": [
       "<Figure size 432x288 with 1 Axes>"
      ]
     },
     "metadata": {
      "needs_background": "light"
     },
     "output_type": "display_data"
    }
   ],
   "source": [
    "sns.boxplot(x='Price', y='Airline', data=data[data['Airline'] == 'Vistara'])"
   ]
  },
  {
   "cell_type": "code",
   "execution_count": 59,
   "id": "fe2f3c56",
   "metadata": {},
   "outputs": [
    {
     "name": "stderr",
     "output_type": "stream",
     "text": [
      "C:\\Users\\Ash\\AppData\\Local\\Temp\\ipykernel_16280\\841444483.py:2: SettingWithCopyWarning: \n",
      "A value is trying to be set on a copy of a slice from a DataFrame\n",
      "\n",
      "See the caveats in the documentation: https://pandas.pydata.org/pandas-docs/stable/user_guide/indexing.html#returning-a-view-versus-a-copy\n",
      "  data.drop(data[(data['Airline'] == 'Vistara') & (data['Price'] > 15000)].index, inplace=True)\n"
     ]
    }
   ],
   "source": [
    "# drop any row from Vistara with a price exceeding 15000\n",
    "data.drop(data[(data['Airline'] == 'Vistara') & (data['Price'] > 15000)].index, inplace=True)"
   ]
  },
  {
   "cell_type": "code",
   "execution_count": 60,
   "id": "a50fd0ed",
   "metadata": {},
   "outputs": [
    {
     "data": {
      "text/plain": [
       "<AxesSubplot:xlabel='Price', ylabel='Airline'>"
      ]
     },
     "execution_count": 60,
     "metadata": {},
     "output_type": "execute_result"
    },
    {
     "data": {
      "image/png": "[encoded data removed]",
      "text/plain": [
       "<Figure size 432x288 with 1 Axes>"
      ]
     },
     "metadata": {
      "needs_background": "light"
     },
     "output_type": "display_data"
    }
   ],
   "source": [
    "sns.boxplot(x='Price', y='Airline', data=data[data['Airline'] == 'Vistara'])"
   ]
  },
  {
   "cell_type": "markdown",
   "id": "41f3f5fe",
   "metadata": {},
   "source": [
    "### Missing Values & Duplicates"
   ]
  },
  {
   "cell_type": "code",
   "execution_count": 61,
   "id": "d64978e4",
   "metadata": {},
   "outputs": [
    {
     "name": "stderr",
     "output_type": "stream",
     "text": [
      "C:\\Users\\Ash\\AppData\\Local\\Temp\\ipykernel_16280\\658830855.py:2: SettingWithCopyWarning: \n",
      "A value is trying to be set on a copy of a slice from a DataFrame\n",
      "\n",
      "See the caveats in the documentation: https://pandas.pydata.org/pandas-docs/stable/user_guide/indexing.html#returning-a-view-versus-a-copy\n",
      "  data.dropna(inplace=True)\n"
     ]
    }
   ],
   "source": [
    "# drop null values in data\n",
    "data.dropna(inplace=True)"
   ]
  },
  {
   "cell_type": "code",
   "execution_count": 62,
   "id": "1934360a",
   "metadata": {},
   "outputs": [
    {
     "data": {
      "text/html": [
       "<div>\n",
       "<style scoped>\n",
       "    .dataframe tbody tr th:only-of-type {\n",
       "        vertical-align: middle;\n",
       "    }\n",
       "\n",
       "    .dataframe tbody tr th {\n",
       "        vertical-align: top;\n",
       "    }\n",
       "\n",
       "    .dataframe thead th {\n",
       "        text-align: right;\n",
       "    }\n",
       "</style>\n",
       "<table border=\"1\" class=\"dataframe\">\n",
       "  <thead>\n",
       "    <tr style=\"text-align: right;\">\n",
       "      <th></th>\n",
       "      <th>Airline</th>\n",
       "      <th>Date_of_Journey</th>\n",
       "      <th>Season</th>\n",
       "      <th>Source</th>\n",
       "      <th>Destination</th>\n",
       "      <th>Route</th>\n",
       "      <th>Dep_Time</th>\n",
       "      <th>Arrival_Time</th>\n",
       "      <th>Duration</th>\n",
       "      <th>Flight_Length</th>\n",
       "      <th>Peak_Hours</th>\n",
       "      <th>Total_Stops</th>\n",
       "      <th>Price</th>\n",
       "      <th>Additional_Info</th>\n",
       "    </tr>\n",
       "  </thead>\n",
       "  <tbody>\n",
       "    <tr>\n",
       "      <th>False</th>\n",
       "      <td>9435</td>\n",
       "      <td>9435</td>\n",
       "      <td>9435</td>\n",
       "      <td>9435</td>\n",
       "      <td>9435</td>\n",
       "      <td>9435</td>\n",
       "      <td>9435</td>\n",
       "      <td>9435</td>\n",
       "      <td>9435</td>\n",
       "      <td>9435</td>\n",
       "      <td>9435</td>\n",
       "      <td>9435</td>\n",
       "      <td>9435</td>\n",
       "      <td>9435</td>\n",
       "    </tr>\n",
       "  </tbody>\n",
       "</table>\n",
       "</div>"
      ],
      "text/plain": [
       "       Airline  Date_of_Journey  Season  Source  Destination  Route  Dep_Time  \\\n",
       "False     9435             9435    9435    9435         9435   9435      9435   \n",
       "\n",
       "       Arrival_Time  Duration  Flight_Length  Peak_Hours  Total_Stops  Price  \\\n",
       "False          9435      9435           9435        9435         9435   9435   \n",
       "\n",
       "       Additional_Info  \n",
       "False             9435  "
      ]
     },
     "execution_count": 62,
     "metadata": {},
     "output_type": "execute_result"
    }
   ],
   "source": [
    "# Check for null values in data\n",
    "data.isna().apply(pd.value_counts)"
   ]
  },
  {
   "cell_type": "code",
   "execution_count": 63,
   "id": "67ab7b42",
   "metadata": {},
   "outputs": [
    {
     "name": "stderr",
     "output_type": "stream",
     "text": [
      "C:\\Users\\Ash\\AppData\\Local\\Temp\\ipykernel_16280\\2698231598.py:2: SettingWithCopyWarning: \n",
      "A value is trying to be set on a copy of a slice from a DataFrame\n",
      "\n",
      "See the caveats in the documentation: https://pandas.pydata.org/pandas-docs/stable/user_guide/indexing.html#returning-a-view-versus-a-copy\n",
      "  data.drop_duplicates(keep='first', inplace=True)\n"
     ]
    }
   ],
   "source": [
    "# drop duplicates in data\n",
    "data.drop_duplicates(keep='first', inplace=True)"
   ]
  },
  {
   "cell_type": "markdown",
   "id": "79b3aac2",
   "metadata": {},
   "source": [
    "# 4- Data Preprocessing II"
   ]
  },
  {
   "cell_type": "code",
   "execution_count": 64,
   "id": "e29c20be",
   "metadata": {},
   "outputs": [
    {
     "name": "stderr",
     "output_type": "stream",
     "text": [
      "C:\\Users\\Ash\\AppData\\Local\\Temp\\ipykernel_16280\\2418466262.py:2: SettingWithCopyWarning: \n",
      "A value is trying to be set on a copy of a slice from a DataFrame\n",
      "\n",
      "See the caveats in the documentation: https://pandas.pydata.org/pandas-docs/stable/user_guide/indexing.html#returning-a-view-versus-a-copy\n",
      "  data['Total_Stops'].replace(['non-stop', '1 stop', '2 stops', '3 stops'], [0, 1, 2, 3], inplace=True)\n"
     ]
    }
   ],
   "source": [
    "# replace values of Total_Stops with their numerical equivalent\n",
    "data['Total_Stops'].replace(['non-stop', '1 stop', '2 stops', '3 stops'], [0, 1, 2, 3], inplace=True)"
   ]
  },
  {
   "cell_type": "code",
   "execution_count": 65,
   "id": "ea78dd45",
   "metadata": {},
   "outputs": [
    {
     "name": "stderr",
     "output_type": "stream",
     "text": [
      "C:\\Users\\Ash\\AppData\\Local\\Temp\\ipykernel_16280\\1919006951.py:1: SettingWithCopyWarning: \n",
      "A value is trying to be set on a copy of a slice from a DataFrame\n",
      "\n",
      "See the caveats in the documentation: https://pandas.pydata.org/pandas-docs/stable/user_guide/indexing.html#returning-a-view-versus-a-copy\n",
      "  data['Additional_Info'].replace(['No info'], ['No Info'], inplace=True)\n"
     ]
    }
   ],
   "source": [
    "data['Additional_Info'].replace(['No info'], ['No Info'], inplace=True)"
   ]
  },
  {
   "cell_type": "code",
   "execution_count": 66,
   "id": "bb7fe15d",
   "metadata": {},
   "outputs": [],
   "source": [
    "# a function that returns the class of a passenger depending on the flight length, the number of stops and the price\n",
    "def flightClass(flight):\n",
    "    \n",
    "    # extract the flight length, the number of stops and the price\n",
    "    flightLength, totalStops, price = flight\n",
    "    \n",
    "    # get flights with similar length and number of stops \n",
    "    fd = data[(data['Flight_Length'] == flightLength) & (data['Total_Stops'] == totalStops)]\n",
    "    \n",
    "    # get quantiles of the price for this particular flight's characteristics \n",
    "    quantiles_fd = np.array(fd['Price'].quantile([0.25, 0.5, 0.75]))\n",
    "    \n",
    "    # compare the flight's price to the quantiles and return appropriate class \n",
    "    if price < quantiles_fd[0]:\n",
    "        return 'Economy'\n",
    "    elif price >= quantiles_fd[0] and price < quantiles_fd[1]:\n",
    "        return 'Economy Premium'\n",
    "    elif price >= quantiles_fd[1] and price < quantiles_fd[2]:\n",
    "        return 'Business'\n",
    "    else:\n",
    "        return 'First'"
   ]
  },
  {
   "cell_type": "code",
   "execution_count": 67,
   "id": "13a6694c",
   "metadata": {},
   "outputs": [
    {
     "name": "stderr",
     "output_type": "stream",
     "text": [
      "C:\\Users\\Ash\\AppData\\Local\\Temp\\ipykernel_16280\\2684656652.py:2: SettingWithCopyWarning: \n",
      "A value is trying to be set on a copy of a slice from a DataFrame.\n",
      "Try using .loc[row_indexer,col_indexer] = value instead\n",
      "\n",
      "See the caveats in the documentation: https://pandas.pydata.org/pandas-docs/stable/user_guide/indexing.html#returning-a-view-versus-a-copy\n",
      "  data['Class'] = data[['Flight_Length', 'Total_Stops', 'Price']].apply(flightClass, axis=1)\n"
     ]
    }
   ],
   "source": [
    "# create a new column 'Class' where the 'flightClass' function is applied with data from 'Flight_Length', 'Total_Stops', 'Price'\n",
    "data['Class'] = data[['Flight_Length', 'Total_Stops', 'Price']].apply(flightClass, axis=1)"
   ]
  },
  {
   "cell_type": "code",
   "execution_count": 68,
   "id": "b64a36f2",
   "metadata": {},
   "outputs": [],
   "source": [
    "\n",
    "# rearange column order\n",
    "data = data[['Airline', 'Date_of_Journey', 'Season', 'Source', 'Destination', 'Route', 'Dep_Time', 'Arrival_Time', 'Duration', 'Flight_Length', 'Peak_Hours', 'Total_Stops', 'Class', 'Price', 'Additional_Info']]\n",
    "\n"
   ]
  },
  {
   "cell_type": "code",
   "execution_count": 69,
   "id": "58b93923",
   "metadata": {},
   "outputs": [
    {
     "data": {
      "text/html": [
       "<div>\n",
       "<style scoped>\n",
       "    .dataframe tbody tr th:only-of-type {\n",
       "        vertical-align: middle;\n",
       "    }\n",
       "\n",
       "    .dataframe tbody tr th {\n",
       "        vertical-align: top;\n",
       "    }\n",
       "\n",
       "    .dataframe thead th {\n",
       "        text-align: right;\n",
       "    }\n",
       "</style>\n",
       "<table border=\"1\" class=\"dataframe\">\n",
       "  <thead>\n",
       "    <tr style=\"text-align: right;\">\n",
       "      <th></th>\n",
       "      <th>Airline</th>\n",
       "      <th>Date_of_Journey</th>\n",
       "      <th>Season</th>\n",
       "      <th>Source</th>\n",
       "      <th>Destination</th>\n",
       "      <th>Route</th>\n",
       "      <th>Dep_Time</th>\n",
       "      <th>Arrival_Time</th>\n",
       "      <th>Duration</th>\n",
       "      <th>Flight_Length</th>\n",
       "      <th>Peak_Hours</th>\n",
       "      <th>Total_Stops</th>\n",
       "      <th>Class</th>\n",
       "      <th>Price</th>\n",
       "      <th>Additional_Info</th>\n",
       "    </tr>\n",
       "  </thead>\n",
       "  <tbody>\n",
       "    <tr>\n",
       "      <th>0</th>\n",
       "      <td>IndiGo</td>\n",
       "      <td>24/03/2019</td>\n",
       "      <td>Spring</td>\n",
       "      <td>Banglore</td>\n",
       "      <td>New Delhi</td>\n",
       "      <td>BLR ? DEL</td>\n",
       "      <td>22:20</td>\n",
       "      <td>01:10 22 Mar</td>\n",
       "      <td>2h 50m</td>\n",
       "      <td>Short</td>\n",
       "      <td>False</td>\n",
       "      <td>0</td>\n",
       "      <td>Economy Premium</td>\n",
       "      <td>3897</td>\n",
       "      <td>No Info</td>\n",
       "    </tr>\n",
       "    <tr>\n",
       "      <th>1</th>\n",
       "      <td>Air India</td>\n",
       "      <td>1/05/2019</td>\n",
       "      <td>Spring</td>\n",
       "      <td>Kolkata</td>\n",
       "      <td>Banglore</td>\n",
       "      <td>CCU ? IXR ? BBI ? BLR</td>\n",
       "      <td>05:50</td>\n",
       "      <td>13:15</td>\n",
       "      <td>7h 25m</td>\n",
       "      <td>Long</td>\n",
       "      <td>False</td>\n",
       "      <td>2</td>\n",
       "      <td>Economy</td>\n",
       "      <td>7662</td>\n",
       "      <td>No Info</td>\n",
       "    </tr>\n",
       "    <tr>\n",
       "      <th>2</th>\n",
       "      <td>Jet Airways</td>\n",
       "      <td>9/06/2019</td>\n",
       "      <td>Spring</td>\n",
       "      <td>Delhi</td>\n",
       "      <td>Cochin</td>\n",
       "      <td>DEL ? LKO ? BOM ? COK</td>\n",
       "      <td>09:25</td>\n",
       "      <td>04:25 10 Jun</td>\n",
       "      <td>19h</td>\n",
       "      <td>Long</td>\n",
       "      <td>True</td>\n",
       "      <td>2</td>\n",
       "      <td>First</td>\n",
       "      <td>13882</td>\n",
       "      <td>No Info</td>\n",
       "    </tr>\n",
       "    <tr>\n",
       "      <th>3</th>\n",
       "      <td>IndiGo</td>\n",
       "      <td>12/05/2019</td>\n",
       "      <td>Spring</td>\n",
       "      <td>Kolkata</td>\n",
       "      <td>Banglore</td>\n",
       "      <td>CCU ? NAG ? BLR</td>\n",
       "      <td>18:05</td>\n",
       "      <td>23:30</td>\n",
       "      <td>5h 25m</td>\n",
       "      <td>Mid</td>\n",
       "      <td>True</td>\n",
       "      <td>1</td>\n",
       "      <td>Business</td>\n",
       "      <td>6218</td>\n",
       "      <td>No Info</td>\n",
       "    </tr>\n",
       "    <tr>\n",
       "      <th>5</th>\n",
       "      <td>SpiceJet</td>\n",
       "      <td>24/06/2019</td>\n",
       "      <td>Summer</td>\n",
       "      <td>Kolkata</td>\n",
       "      <td>Banglore</td>\n",
       "      <td>CCU ? BLR</td>\n",
       "      <td>09:00</td>\n",
       "      <td>11:25</td>\n",
       "      <td>2h 25m</td>\n",
       "      <td>Short</td>\n",
       "      <td>True</td>\n",
       "      <td>0</td>\n",
       "      <td>Economy Premium</td>\n",
       "      <td>3873</td>\n",
       "      <td>No Info</td>\n",
       "    </tr>\n",
       "    <tr>\n",
       "      <th>...</th>\n",
       "      <td>...</td>\n",
       "      <td>...</td>\n",
       "      <td>...</td>\n",
       "      <td>...</td>\n",
       "      <td>...</td>\n",
       "      <td>...</td>\n",
       "      <td>...</td>\n",
       "      <td>...</td>\n",
       "      <td>...</td>\n",
       "      <td>...</td>\n",
       "      <td>...</td>\n",
       "      <td>...</td>\n",
       "      <td>...</td>\n",
       "      <td>...</td>\n",
       "      <td>...</td>\n",
       "    </tr>\n",
       "    <tr>\n",
       "      <th>10677</th>\n",
       "      <td>SpiceJet</td>\n",
       "      <td>21/05/2019</td>\n",
       "      <td>Spring</td>\n",
       "      <td>Banglore</td>\n",
       "      <td>Delhi</td>\n",
       "      <td>BLR ? DEL</td>\n",
       "      <td>05:55</td>\n",
       "      <td>08:35</td>\n",
       "      <td>2h 40m</td>\n",
       "      <td>Short</td>\n",
       "      <td>False</td>\n",
       "      <td>0</td>\n",
       "      <td>Economy</td>\n",
       "      <td>3257</td>\n",
       "      <td>No check-in baggage included</td>\n",
       "    </tr>\n",
       "    <tr>\n",
       "      <th>10678</th>\n",
       "      <td>Air Asia</td>\n",
       "      <td>9/04/2019</td>\n",
       "      <td>Spring</td>\n",
       "      <td>Kolkata</td>\n",
       "      <td>Banglore</td>\n",
       "      <td>CCU ? BLR</td>\n",
       "      <td>19:55</td>\n",
       "      <td>22:25</td>\n",
       "      <td>2h 30m</td>\n",
       "      <td>Short</td>\n",
       "      <td>True</td>\n",
       "      <td>0</td>\n",
       "      <td>Economy Premium</td>\n",
       "      <td>4107</td>\n",
       "      <td>No Info</td>\n",
       "    </tr>\n",
       "    <tr>\n",
       "      <th>10679</th>\n",
       "      <td>Air India</td>\n",
       "      <td>27/04/2019</td>\n",
       "      <td>Spring</td>\n",
       "      <td>Kolkata</td>\n",
       "      <td>Banglore</td>\n",
       "      <td>CCU ? BLR</td>\n",
       "      <td>20:45</td>\n",
       "      <td>23:20</td>\n",
       "      <td>2h 35m</td>\n",
       "      <td>Short</td>\n",
       "      <td>False</td>\n",
       "      <td>0</td>\n",
       "      <td>Economy Premium</td>\n",
       "      <td>4145</td>\n",
       "      <td>No Info</td>\n",
       "    </tr>\n",
       "    <tr>\n",
       "      <th>10680</th>\n",
       "      <td>Jet Airways</td>\n",
       "      <td>27/04/2019</td>\n",
       "      <td>Spring</td>\n",
       "      <td>Banglore</td>\n",
       "      <td>Delhi</td>\n",
       "      <td>BLR ? DEL</td>\n",
       "      <td>08:20</td>\n",
       "      <td>11:20</td>\n",
       "      <td>3h</td>\n",
       "      <td>Mid</td>\n",
       "      <td>False</td>\n",
       "      <td>0</td>\n",
       "      <td>First</td>\n",
       "      <td>7229</td>\n",
       "      <td>No Info</td>\n",
       "    </tr>\n",
       "    <tr>\n",
       "      <th>10682</th>\n",
       "      <td>Air India</td>\n",
       "      <td>9/05/2019</td>\n",
       "      <td>Spring</td>\n",
       "      <td>Delhi</td>\n",
       "      <td>Cochin</td>\n",
       "      <td>DEL ? GOI ? BOM ? COK</td>\n",
       "      <td>10:55</td>\n",
       "      <td>19:15</td>\n",
       "      <td>8h 20m</td>\n",
       "      <td>Long</td>\n",
       "      <td>True</td>\n",
       "      <td>2</td>\n",
       "      <td>Economy Premium</td>\n",
       "      <td>11753</td>\n",
       "      <td>No Info</td>\n",
       "    </tr>\n",
       "  </tbody>\n",
       "</table>\n",
       "<p>9225 rows × 15 columns</p>\n",
       "</div>"
      ],
      "text/plain": [
       "           Airline Date_of_Journey  Season    Source Destination  \\\n",
       "0           IndiGo      24/03/2019  Spring  Banglore   New Delhi   \n",
       "1        Air India       1/05/2019  Spring   Kolkata    Banglore   \n",
       "2      Jet Airways       9/06/2019  Spring     Delhi      Cochin   \n",
       "3           IndiGo      12/05/2019  Spring   Kolkata    Banglore   \n",
       "5         SpiceJet      24/06/2019  Summer   Kolkata    Banglore   \n",
       "...            ...             ...     ...       ...         ...   \n",
       "10677     SpiceJet      21/05/2019  Spring  Banglore       Delhi   \n",
       "10678     Air Asia       9/04/2019  Spring   Kolkata    Banglore   \n",
       "10679    Air India      27/04/2019  Spring   Kolkata    Banglore   \n",
       "10680  Jet Airways      27/04/2019  Spring  Banglore       Delhi   \n",
       "10682    Air India       9/05/2019  Spring     Delhi      Cochin   \n",
       "\n",
       "                       Route Dep_Time  Arrival_Time Duration Flight_Length  \\\n",
       "0                  BLR ? DEL    22:20  01:10 22 Mar   2h 50m         Short   \n",
       "1      CCU ? IXR ? BBI ? BLR    05:50         13:15   7h 25m          Long   \n",
       "2      DEL ? LKO ? BOM ? COK    09:25  04:25 10 Jun      19h          Long   \n",
       "3            CCU ? NAG ? BLR    18:05         23:30   5h 25m           Mid   \n",
       "5                  CCU ? BLR    09:00         11:25   2h 25m         Short   \n",
       "...                      ...      ...           ...      ...           ...   \n",
       "10677              BLR ? DEL    05:55         08:35   2h 40m         Short   \n",
       "10678              CCU ? BLR    19:55         22:25   2h 30m         Short   \n",
       "10679              CCU ? BLR    20:45         23:20   2h 35m         Short   \n",
       "10680              BLR ? DEL    08:20         11:20       3h           Mid   \n",
       "10682  DEL ? GOI ? BOM ? COK    10:55         19:15   8h 20m          Long   \n",
       "\n",
       "       Peak_Hours  Total_Stops            Class  Price  \\\n",
       "0           False            0  Economy Premium   3897   \n",
       "1           False            2          Economy   7662   \n",
       "2            True            2            First  13882   \n",
       "3            True            1         Business   6218   \n",
       "5            True            0  Economy Premium   3873   \n",
       "...           ...          ...              ...    ...   \n",
       "10677       False            0          Economy   3257   \n",
       "10678        True            0  Economy Premium   4107   \n",
       "10679       False            0  Economy Premium   4145   \n",
       "10680       False            0            First   7229   \n",
       "10682        True            2  Economy Premium  11753   \n",
       "\n",
       "                    Additional_Info  \n",
       "0                           No Info  \n",
       "1                           No Info  \n",
       "2                           No Info  \n",
       "3                           No Info  \n",
       "5                           No Info  \n",
       "...                             ...  \n",
       "10677  No check-in baggage included  \n",
       "10678                       No Info  \n",
       "10679                       No Info  \n",
       "10680                       No Info  \n",
       "10682                       No Info  \n",
       "\n",
       "[9225 rows x 15 columns]"
      ]
     },
     "execution_count": 69,
     "metadata": {},
     "output_type": "execute_result"
    }
   ],
   "source": [
    "data"
   ]
  },
  {
   "cell_type": "code",
   "execution_count": 70,
   "id": "ffd72436",
   "metadata": {},
   "outputs": [],
   "source": [
    "# make a deep copy of the data\n",
    "dataE = copy.deepcopy(data)"
   ]
  },
  {
   "cell_type": "code",
   "execution_count": 71,
   "id": "4bce57d9",
   "metadata": {},
   "outputs": [],
   "source": [
    "# replace flight length values with a numerical weight in the copy of data (dataE)\n",
    "dataE['Flight_Length'].replace(['Short', 'Mid', 'Long'], [0, 1, 2], inplace=True)"
   ]
  },
  {
   "cell_type": "code",
   "execution_count": 72,
   "id": "fda822cb",
   "metadata": {},
   "outputs": [],
   "source": [
    "# replace class with a numerical weight in the copy of data (dataE)\n",
    "dataE['Class'].replace(['Economy', 'Economy Premium', 'Business', 'First'], [0, 1, 2, 3], inplace=True)"
   ]
  },
  {
   "cell_type": "code",
   "execution_count": 73,
   "id": "724206db",
   "metadata": {},
   "outputs": [],
   "source": [
    "# encode every string value in the copy of data (dataE)\n",
    "dataE.loc[:,['Airline', 'Source', 'Destination', 'Season', 'Peak_Hours']] = dataE.loc[:,['Airline', 'Source', 'Destination', 'Season', 'Flight_Length', 'Peak_Hours']].apply(LabelEncoder().fit_transform)\n",
    "\n"
   ]
  },
  {
   "cell_type": "code",
   "execution_count": 74,
   "id": "1306b2b6",
   "metadata": {
    "scrolled": true
   },
   "outputs": [
    {
     "data": {
      "text/html": [
       "<div>\n",
       "<style scoped>\n",
       "    .dataframe tbody tr th:only-of-type {\n",
       "        vertical-align: middle;\n",
       "    }\n",
       "\n",
       "    .dataframe tbody tr th {\n",
       "        vertical-align: top;\n",
       "    }\n",
       "\n",
       "    .dataframe thead th {\n",
       "        text-align: right;\n",
       "    }\n",
       "</style>\n",
       "<table border=\"1\" class=\"dataframe\">\n",
       "  <thead>\n",
       "    <tr style=\"text-align: right;\">\n",
       "      <th></th>\n",
       "      <th>Airline</th>\n",
       "      <th>Date_of_Journey</th>\n",
       "      <th>Season</th>\n",
       "      <th>Source</th>\n",
       "      <th>Destination</th>\n",
       "      <th>Route</th>\n",
       "      <th>Dep_Time</th>\n",
       "      <th>Arrival_Time</th>\n",
       "      <th>Duration</th>\n",
       "      <th>Flight_Length</th>\n",
       "      <th>Peak_Hours</th>\n",
       "      <th>Total_Stops</th>\n",
       "      <th>Class</th>\n",
       "      <th>Price</th>\n",
       "      <th>Additional_Info</th>\n",
       "    </tr>\n",
       "  </thead>\n",
       "  <tbody>\n",
       "    <tr>\n",
       "      <th>0</th>\n",
       "      <td>3</td>\n",
       "      <td>24/03/2019</td>\n",
       "      <td>0</td>\n",
       "      <td>0</td>\n",
       "      <td>5</td>\n",
       "      <td>BLR ? DEL</td>\n",
       "      <td>22:20</td>\n",
       "      <td>01:10 22 Mar</td>\n",
       "      <td>2h 50m</td>\n",
       "      <td>0</td>\n",
       "      <td>0</td>\n",
       "      <td>0</td>\n",
       "      <td>1</td>\n",
       "      <td>3897</td>\n",
       "      <td>No Info</td>\n",
       "    </tr>\n",
       "    <tr>\n",
       "      <th>1</th>\n",
       "      <td>1</td>\n",
       "      <td>1/05/2019</td>\n",
       "      <td>0</td>\n",
       "      <td>3</td>\n",
       "      <td>0</td>\n",
       "      <td>CCU ? IXR ? BBI ? BLR</td>\n",
       "      <td>05:50</td>\n",
       "      <td>13:15</td>\n",
       "      <td>7h 25m</td>\n",
       "      <td>2</td>\n",
       "      <td>0</td>\n",
       "      <td>2</td>\n",
       "      <td>0</td>\n",
       "      <td>7662</td>\n",
       "      <td>No Info</td>\n",
       "    </tr>\n",
       "    <tr>\n",
       "      <th>2</th>\n",
       "      <td>4</td>\n",
       "      <td>9/06/2019</td>\n",
       "      <td>0</td>\n",
       "      <td>2</td>\n",
       "      <td>1</td>\n",
       "      <td>DEL ? LKO ? BOM ? COK</td>\n",
       "      <td>09:25</td>\n",
       "      <td>04:25 10 Jun</td>\n",
       "      <td>19h</td>\n",
       "      <td>2</td>\n",
       "      <td>1</td>\n",
       "      <td>2</td>\n",
       "      <td>3</td>\n",
       "      <td>13882</td>\n",
       "      <td>No Info</td>\n",
       "    </tr>\n",
       "    <tr>\n",
       "      <th>3</th>\n",
       "      <td>3</td>\n",
       "      <td>12/05/2019</td>\n",
       "      <td>0</td>\n",
       "      <td>3</td>\n",
       "      <td>0</td>\n",
       "      <td>CCU ? NAG ? BLR</td>\n",
       "      <td>18:05</td>\n",
       "      <td>23:30</td>\n",
       "      <td>5h 25m</td>\n",
       "      <td>1</td>\n",
       "      <td>1</td>\n",
       "      <td>1</td>\n",
       "      <td>2</td>\n",
       "      <td>6218</td>\n",
       "      <td>No Info</td>\n",
       "    </tr>\n",
       "    <tr>\n",
       "      <th>5</th>\n",
       "      <td>6</td>\n",
       "      <td>24/06/2019</td>\n",
       "      <td>1</td>\n",
       "      <td>3</td>\n",
       "      <td>0</td>\n",
       "      <td>CCU ? BLR</td>\n",
       "      <td>09:00</td>\n",
       "      <td>11:25</td>\n",
       "      <td>2h 25m</td>\n",
       "      <td>0</td>\n",
       "      <td>1</td>\n",
       "      <td>0</td>\n",
       "      <td>1</td>\n",
       "      <td>3873</td>\n",
       "      <td>No Info</td>\n",
       "    </tr>\n",
       "    <tr>\n",
       "      <th>...</th>\n",
       "      <td>...</td>\n",
       "      <td>...</td>\n",
       "      <td>...</td>\n",
       "      <td>...</td>\n",
       "      <td>...</td>\n",
       "      <td>...</td>\n",
       "      <td>...</td>\n",
       "      <td>...</td>\n",
       "      <td>...</td>\n",
       "      <td>...</td>\n",
       "      <td>...</td>\n",
       "      <td>...</td>\n",
       "      <td>...</td>\n",
       "      <td>...</td>\n",
       "      <td>...</td>\n",
       "    </tr>\n",
       "    <tr>\n",
       "      <th>10677</th>\n",
       "      <td>6</td>\n",
       "      <td>21/05/2019</td>\n",
       "      <td>0</td>\n",
       "      <td>0</td>\n",
       "      <td>2</td>\n",
       "      <td>BLR ? DEL</td>\n",
       "      <td>05:55</td>\n",
       "      <td>08:35</td>\n",
       "      <td>2h 40m</td>\n",
       "      <td>0</td>\n",
       "      <td>0</td>\n",
       "      <td>0</td>\n",
       "      <td>0</td>\n",
       "      <td>3257</td>\n",
       "      <td>No check-in baggage included</td>\n",
       "    </tr>\n",
       "    <tr>\n",
       "      <th>10678</th>\n",
       "      <td>0</td>\n",
       "      <td>9/04/2019</td>\n",
       "      <td>0</td>\n",
       "      <td>3</td>\n",
       "      <td>0</td>\n",
       "      <td>CCU ? BLR</td>\n",
       "      <td>19:55</td>\n",
       "      <td>22:25</td>\n",
       "      <td>2h 30m</td>\n",
       "      <td>0</td>\n",
       "      <td>1</td>\n",
       "      <td>0</td>\n",
       "      <td>1</td>\n",
       "      <td>4107</td>\n",
       "      <td>No Info</td>\n",
       "    </tr>\n",
       "    <tr>\n",
       "      <th>10679</th>\n",
       "      <td>1</td>\n",
       "      <td>27/04/2019</td>\n",
       "      <td>0</td>\n",
       "      <td>3</td>\n",
       "      <td>0</td>\n",
       "      <td>CCU ? BLR</td>\n",
       "      <td>20:45</td>\n",
       "      <td>23:20</td>\n",
       "      <td>2h 35m</td>\n",
       "      <td>0</td>\n",
       "      <td>0</td>\n",
       "      <td>0</td>\n",
       "      <td>1</td>\n",
       "      <td>4145</td>\n",
       "      <td>No Info</td>\n",
       "    </tr>\n",
       "    <tr>\n",
       "      <th>10680</th>\n",
       "      <td>4</td>\n",
       "      <td>27/04/2019</td>\n",
       "      <td>0</td>\n",
       "      <td>0</td>\n",
       "      <td>2</td>\n",
       "      <td>BLR ? DEL</td>\n",
       "      <td>08:20</td>\n",
       "      <td>11:20</td>\n",
       "      <td>3h</td>\n",
       "      <td>1</td>\n",
       "      <td>0</td>\n",
       "      <td>0</td>\n",
       "      <td>3</td>\n",
       "      <td>7229</td>\n",
       "      <td>No Info</td>\n",
       "    </tr>\n",
       "    <tr>\n",
       "      <th>10682</th>\n",
       "      <td>1</td>\n",
       "      <td>9/05/2019</td>\n",
       "      <td>0</td>\n",
       "      <td>2</td>\n",
       "      <td>1</td>\n",
       "      <td>DEL ? GOI ? BOM ? COK</td>\n",
       "      <td>10:55</td>\n",
       "      <td>19:15</td>\n",
       "      <td>8h 20m</td>\n",
       "      <td>2</td>\n",
       "      <td>1</td>\n",
       "      <td>2</td>\n",
       "      <td>1</td>\n",
       "      <td>11753</td>\n",
       "      <td>No Info</td>\n",
       "    </tr>\n",
       "  </tbody>\n",
       "</table>\n",
       "<p>9225 rows × 15 columns</p>\n",
       "</div>"
      ],
      "text/plain": [
       "       Airline Date_of_Journey  Season  Source  Destination  \\\n",
       "0            3      24/03/2019       0       0            5   \n",
       "1            1       1/05/2019       0       3            0   \n",
       "2            4       9/06/2019       0       2            1   \n",
       "3            3      12/05/2019       0       3            0   \n",
       "5            6      24/06/2019       1       3            0   \n",
       "...        ...             ...     ...     ...          ...   \n",
       "10677        6      21/05/2019       0       0            2   \n",
       "10678        0       9/04/2019       0       3            0   \n",
       "10679        1      27/04/2019       0       3            0   \n",
       "10680        4      27/04/2019       0       0            2   \n",
       "10682        1       9/05/2019       0       2            1   \n",
       "\n",
       "                       Route Dep_Time  Arrival_Time Duration  Flight_Length  \\\n",
       "0                  BLR ? DEL    22:20  01:10 22 Mar   2h 50m              0   \n",
       "1      CCU ? IXR ? BBI ? BLR    05:50         13:15   7h 25m              2   \n",
       "2      DEL ? LKO ? BOM ? COK    09:25  04:25 10 Jun      19h              2   \n",
       "3            CCU ? NAG ? BLR    18:05         23:30   5h 25m              1   \n",
       "5                  CCU ? BLR    09:00         11:25   2h 25m              0   \n",
       "...                      ...      ...           ...      ...            ...   \n",
       "10677              BLR ? DEL    05:55         08:35   2h 40m              0   \n",
       "10678              CCU ? BLR    19:55         22:25   2h 30m              0   \n",
       "10679              CCU ? BLR    20:45         23:20   2h 35m              0   \n",
       "10680              BLR ? DEL    08:20         11:20       3h              1   \n",
       "10682  DEL ? GOI ? BOM ? COK    10:55         19:15   8h 20m              2   \n",
       "\n",
       "       Peak_Hours  Total_Stops  Class  Price               Additional_Info  \n",
       "0               0            0      1   3897                       No Info  \n",
       "1               0            2      0   7662                       No Info  \n",
       "2               1            2      3  13882                       No Info  \n",
       "3               1            1      2   6218                       No Info  \n",
       "5               1            0      1   3873                       No Info  \n",
       "...           ...          ...    ...    ...                           ...  \n",
       "10677           0            0      0   3257  No check-in baggage included  \n",
       "10678           1            0      1   4107                       No Info  \n",
       "10679           0            0      1   4145                       No Info  \n",
       "10680           0            0      3   7229                       No Info  \n",
       "10682           1            2      1  11753                       No Info  \n",
       "\n",
       "[9225 rows x 15 columns]"
      ]
     },
     "execution_count": 74,
     "metadata": {},
     "output_type": "execute_result"
    }
   ],
   "source": [
    "# display copy of data\n",
    "dataE"
   ]
  },
  {
   "cell_type": "code",
   "execution_count": 75,
   "id": "5ec2565f",
   "metadata": {},
   "outputs": [
    {
     "data": {
      "text/plain": [
       "<AxesSubplot:>"
      ]
     },
     "execution_count": 75,
     "metadata": {},
     "output_type": "execute_result"
    },
    {
     "data": {
      "image/png": "[encoded data removed]",
      "text/plain": [
       "<Figure size 720x720 with 2 Axes>"
      ]
     },
     "metadata": {
      "needs_background": "light"
     },
     "output_type": "display_data"
    }
   ],
   "source": [
    "plt.figure(figsize= (10,10))\n",
    "\n",
    "# correlation between columns in dataE\n",
    "sns.heatmap(dataE.corr(), annot=True, cmap=\"RdBu\", square=True)"
   ]
  },
  {
   "cell_type": "markdown",
   "id": "3483efc5",
   "metadata": {},
   "source": [
    "# 5- Data Visualization"
   ]
  },
  {
   "cell_type": "code",
   "execution_count": 76,
   "id": "2b928076",
   "metadata": {},
   "outputs": [
    {
     "data": {
      "text/plain": [
       "<AxesSubplot:ylabel='Airline'>"
      ]
     },
     "execution_count": 76,
     "metadata": {},
     "output_type": "execute_result"
    },
    {
     "data": {
      "image/png": "[encoded data removed]",
      "text/plain": [
       "<Figure size 720x720 with 1 Axes>"
      ]
     },
     "metadata": {},
     "output_type": "display_data"
    }
   ],
   "source": [
    "plt.figure(figsize= (10,10))\n",
    "\n",
    "data['Airline'].value_counts().plot.pie(autopct='%0.1f%%')"
   ]
  },
  {
   "cell_type": "code",
   "execution_count": 77,
   "id": "2249cb72",
   "metadata": {},
   "outputs": [
    {
     "data": {
      "text/plain": [
       "<AxesSubplot:xlabel='Airline', ylabel='Price'>"
      ]
     },
     "execution_count": 77,
     "metadata": {},
     "output_type": "execute_result"
    },
    {
     "data": {
      "image/png": "[encoded data removed]",
      "text/plain": [
       "<Figure size 1440x360 with 1 Axes>"
      ]
     },
     "metadata": {
      "needs_background": "light"
     },
     "output_type": "display_data"
    }
   ],
   "source": [
    "plt.figure(figsize= (20,5))\n",
    "\n",
    "sns.barplot(x= 'Airline', y= 'Price', hue='Class', data=data)"
   ]
  },
  {
   "cell_type": "code",
   "execution_count": 78,
   "id": "ce9b3628",
   "metadata": {},
   "outputs": [
    {
     "data": {
      "text/plain": [
       "<AxesSubplot:xlabel='Airline', ylabel='Price'>"
      ]
     },
     "execution_count": 78,
     "metadata": {},
     "output_type": "execute_result"
    },
    {
     "data": {
      "image/png": "[encoded data removed]",
      "text/plain": [
       "<Figure size 1440x360 with 1 Axes>"
      ]
     },
     "metadata": {
      "needs_background": "light"
     },
     "output_type": "display_data"
    }
   ],
   "source": [
    "plt.figure(figsize= (20,5))\n",
    "\n",
    "sns.barplot(x= 'Airline', y= 'Price', hue='Flight_Length', data=data)"
   ]
  },
  {
   "cell_type": "code",
   "execution_count": 79,
   "id": "041af6ca",
   "metadata": {},
   "outputs": [
    {
     "data": {
      "text/plain": [
       "<AxesSubplot:xlabel='Airline', ylabel='Price'>"
      ]
     },
     "execution_count": 79,
     "metadata": {},
     "output_type": "execute_result"
    },
    {
     "data": {
      "image/png": "[encoded data removed]",
      "text/plain": [
       "<Figure size 1440x360 with 1 Axes>"
      ]
     },
     "metadata": {
      "needs_background": "light"
     },
     "output_type": "display_data"
    }
   ],
   "source": [
    "plt.figure(figsize= (20,5))\n",
    "\n",
    "sns.barplot(x= 'Airline', y= 'Price', hue='Total_Stops', data=data)"
   ]
  },
  {
   "cell_type": "code",
   "execution_count": 80,
   "id": "eae9edf4",
   "metadata": {},
   "outputs": [
    {
     "data": {
      "text/plain": [
       "<AxesSubplot:xlabel='Airline', ylabel='count'>"
      ]
     },
     "execution_count": 80,
     "metadata": {},
     "output_type": "execute_result"
    },
    {
     "data": {
      "image/png": "[encoded data removed]",
      "text/plain": [
       "<Figure size 1440x360 with 1 Axes>"
      ]
     },
     "metadata": {
      "needs_background": "light"
     },
     "output_type": "display_data"
    }
   ],
   "source": [
    "plt.figure(figsize= (20,5))\n",
    "\n",
    "sns.countplot(x= 'Airline', hue= 'Class', data=data)"
   ]
  },
  {
   "cell_type": "code",
   "execution_count": 81,
   "id": "20bb118d",
   "metadata": {},
   "outputs": [
    {
     "data": {
      "text/plain": [
       "<AxesSubplot:xlabel='Flight_Length', ylabel='Price'>"
      ]
     },
     "execution_count": 81,
     "metadata": {},
     "output_type": "execute_result"
    },
    {
     "data": {
      "image/png": "[encoded data removed]",
      "text/plain": [
       "<Figure size 1440x720 with 1 Axes>"
      ]
     },
     "metadata": {
      "needs_background": "light"
     },
     "output_type": "display_data"
    }
   ],
   "source": [
    "plt.figure(figsize= (20,10))\n",
    "\n",
    "sns.barplot(x= 'Flight_Length', y= 'Price', hue='Class', data=data)"
   ]
  },
  {
   "cell_type": "code",
   "execution_count": 82,
   "id": "5c8d6ce9",
   "metadata": {},
   "outputs": [
    {
     "data": {
      "text/plain": [
       "<AxesSubplot:xlabel='Flight_Length', ylabel='count'>"
      ]
     },
     "execution_count": 82,
     "metadata": {},
     "output_type": "execute_result"
    },
    {
     "data": {
      "image/png": "[encoded data removed]",
      "text/plain": [
       "<Figure size 432x288 with 1 Axes>"
      ]
     },
     "metadata": {
      "needs_background": "light"
     },
     "output_type": "display_data"
    }
   ],
   "source": [
    "sns.countplot(x='Flight_Length', hue='Season', data=data)"
   ]
  },
  {
   "cell_type": "code",
   "execution_count": 83,
   "id": "338c0ef6",
   "metadata": {},
   "outputs": [
    {
     "data": {
      "text/plain": [
       "<AxesSubplot:xlabel='Flight_Length', ylabel='Price'>"
      ]
     },
     "execution_count": 83,
     "metadata": {},
     "output_type": "execute_result"
    },
    {
     "data": {
      "image/png": "[encoded data removed]",
      "text/plain": [
       "<Figure size 432x288 with 1 Axes>"
      ]
     },
     "metadata": {
      "needs_background": "light"
     },
     "output_type": "display_data"
    }
   ],
   "source": [
    "sns.barplot(x='Flight_Length', y='Price', hue='Season', data=data)"
   ]
  },
  {
   "cell_type": "code",
   "execution_count": 84,
   "id": "1162ad56",
   "metadata": {},
   "outputs": [
    {
     "data": {
      "text/plain": [
       "<AxesSubplot:ylabel='Source'>"
      ]
     },
     "execution_count": 84,
     "metadata": {},
     "output_type": "execute_result"
    },
    {
     "data": {
      "image/png": "[encoded data removed]",
      "text/plain": [
       "<Figure size 720x720 with 1 Axes>"
      ]
     },
     "metadata": {},
     "output_type": "display_data"
    }
   ],
   "source": [
    "plt.figure(figsize= (10,10))\n",
    "\n",
    "data['Source'].value_counts().plot.pie(autopct='%0.1f%%')"
   ]
  },
  {
   "cell_type": "code",
   "execution_count": 85,
   "id": "124938c2",
   "metadata": {},
   "outputs": [
    {
     "data": {
      "text/plain": [
       "<AxesSubplot:ylabel='Destination'>"
      ]
     },
     "execution_count": 85,
     "metadata": {},
     "output_type": "execute_result"
    },
    {
     "data": {
      "image/png": "[encoded data removed]",
      "text/plain": [
       "<Figure size 720x720 with 1 Axes>"
      ]
     },
     "metadata": {},
     "output_type": "display_data"
    }
   ],
   "source": [
    "plt.figure(figsize= (10,10))\n",
    "\n",
    "data['Destination'].value_counts().plot.pie(autopct='%0.1f%%')"
   ]
  },
  {
   "cell_type": "markdown",
   "id": "dbab139f",
   "metadata": {},
   "source": [
    "# 6- Machine Learning Model"
   ]
  },
  {
   "cell_type": "code",
   "execution_count": 86,
   "id": "df2b9d61",
   "metadata": {},
   "outputs": [],
   "source": [
    "# Importing the dataset determining the factors affecting estemated parameter\n",
    "X = np.asanyarray(dataE[ ['Flight_Length', 'Total_Stops', 'Class'] ]) #converts every column into an array\n",
    "Y = np.asanyarray(dataE[ ['Price'] ])"
   ]
  },
  {
   "cell_type": "code",
   "execution_count": 87,
   "id": "0a00a3c8",
   "metadata": {},
   "outputs": [],
   "source": [
    "# Splitting the dataset into the Training set, and Test set. 1/3, and fixed random state 47.\n",
    "X_train, X_test, y_train, y_test = train_test_split(X, Y, test_size = 1/3, random_state = 47)"
   ]
  },
  {
   "cell_type": "code",
   "execution_count": 88,
   "id": "e27b2ded",
   "metadata": {},
   "outputs": [],
   "source": [
    "#setting it as regressor\n",
    "regressor = LinearRegression()        "
   ]
  },
  {
   "cell_type": "code",
   "execution_count": 89,
   "id": "7cd0fdfa",
   "metadata": {},
   "outputs": [
    {
     "data": {
      "text/plain": [
       "LinearRegression()"
      ]
     },
     "execution_count": 89,
     "metadata": {},
     "output_type": "execute_result"
    }
   ],
   "source": [
    "#start Training\n",
    "regressor.fit(X_train, y_train)"
   ]
  },
  {
   "cell_type": "code",
   "execution_count": 90,
   "id": "837a0a78",
   "metadata": {},
   "outputs": [],
   "source": [
    "#start testing\n",
    "\n",
    "y_pred = regressor.predict(X_test) #function enables us to predict the labels of the data values on the basis of the trained model"
   ]
  },
  {
   "cell_type": "code",
   "execution_count": 91,
   "id": "b3278899",
   "metadata": {},
   "outputs": [
    {
     "name": "stdout",
     "output_type": "stream",
     "text": [
      "MSE: 1836604.3574427082\n",
      "MAE: 1065.5127088504296\n",
      "RMSE: 1355.2137681719103\n",
      "r2_score: 86.70179780109446\n"
     ]
    }
   ],
   "source": [
    "print('MSE:', metrics.mean_squared_error(y_pred,y_test) ) \n",
    "\n",
    "#the average of the square of the difference between the observed and predicted values of a variable\n",
    "\n",
    "print('MAE:', metrics.mean_absolute_error(y_pred,y_test) )\n",
    "\n",
    "#It calculates errors between actual values and values predicted by the model\n",
    "\n",
    "print('RMSE:', np.sqrt(metrics.mean_squared_error(y_pred,y_test)) ) #Mean squared error regression loss\n",
    "\n",
    "print('r2_score:', metrics.r2_score(y_pred,y_test) * 100 )"
   ]
  },
  {
   "cell_type": "markdown",
   "id": "159b2b72",
   "metadata": {},
   "source": [
    "# Domain Research"
   ]
  },
  {
   "cell_type": "markdown",
   "id": "706a65bf",
   "metadata": {},
   "source": [
    "### The differences between long-haul & short-haul piloting"
   ]
  },
  {
   "cell_type": "markdown",
   "id": "a55e815f",
   "metadata": {},
   "source": [
    "https://www.themcggroup.com/blog/the-differences-between-longhaul-and-shorthaul-piloting/bp67/"
   ]
  },
  {
   "cell_type": "markdown",
   "id": "6446ab02",
   "metadata": {},
   "source": [
    "### Top Factors That Determine Flight Ticket Prices"
   ]
  },
  {
   "cell_type": "markdown",
   "id": "e561f63e",
   "metadata": {},
   "source": [
    "https://www.intermiles.com/blog/top-factors-that-determine-flight-ticket-prices"
   ]
  },
  {
   "cell_type": "markdown",
   "id": "7dc43f77",
   "metadata": {},
   "source": [
    "### Does Shopping Time Affect Flight Prices?"
   ]
  },
  {
   "cell_type": "markdown",
   "id": "3cbf5bad",
   "metadata": {},
   "source": [
    "https://media.hopper.com/research/shopping-time-affect-flight-prices"
   ]
  }
 ],
 "metadata": {
  "kernelspec": {
   "display_name": "Python 3 (ipykernel)",
   "language": "python",
   "name": "python3"
  },
  "language_info": {
   "codemirror_mode": {
    "name": "ipython",
    "version": 3
   },
   "file_extension": ".py",
   "mimetype": "text/x-python",
   "name": "python",
   "nbconvert_exporter": "python",
   "pygments_lexer": "ipython3",
   "version": "3.9.12"
  }
 },
 "nbformat": 4,
 "nbformat_minor": 5
}
